{
 "cells": [
  {
   "cell_type": "markdown",
   "metadata": {},
   "source": [
    "```\n",
    "BEGIN ASSIGNMENT\n",
    "generate: true \n",
    "files:\n",
    "    - numberline_0.png\n",
    "    - numberline_1.png\n",
    "    - map.jpg\n",
    "    - error.jpg\n",
    "```"
   ]
  },
  {
   "cell_type": "markdown",
   "metadata": {},
   "source": [
    "# Lab 1: Expresiones\n",
    "\n",
    "¡Bienvenidos a *Data 8: Fundamentos de Ciencia de Datos*! Cada semana completará un taller como este. No se puede aprender asuntos técnicos sin experiencia práctica, y por esto los talleres son una parte importante de este curso. \n",
    "\n",
    "Antes de empezar, queremos presentar algunos detalles administrativos. \n",
    "\n",
    "La sesión de laboratorio tiene dos componentes: preguntas y discusión (sin usar el computador) sobre materiales recientes, y talleres (¡como este!) que desarrollan las habilidades relacionadas con conceptos computacionales y de inferencia. Estos talleres son un componente requerido del curso y serán publicados los lunes en la mañana.\n",
    "\n",
    "Las sesiones de laboratorio no son transmitidas. El conjunto de preguntas cubiertas en la sesión serán publicadas; para la dicusión relacionada con esas preguntas, por favor asistan a la sesión. Hay dos formas para obtener la mejor nota en el laboratorio semanal:\n",
    "\n",
    "1. Asista a la sesión de laboratorio que le ha sido asignada y realice un avance considerable que sea suficiente para ser revisado por las personas a cargo del curso. Antes de retirarse, debe **entregar el taller y asegurarse que una persona del staff lo registre**. Incluso si finaliza el taller antes de la sesión, **debe asistir al menos al componente de discusión del taller para ser registrado.** Tenga en cuenta que, si usted fue registrado, no es necesario que el trabajo que envie este completo para recibir la nota completa. \n",
    "\n",
    "2. Complete el taller por su cuenta y envíe el taller completo a más tardar el miércoles a las 8:59 a.m. Si selecciona esta opción, debe finalizar el taller completo y aprobar todas las pruebas del autocalificador para recibir la nota. Dado que la inasistencia a las sesiones de laboratorio significa perderse la discusión en grupo de conceptos importantes para el curso, recomendamos que no use esta opción, excepto por aquellas semanas en las que físicamente no puede asistir a la sesión de laboratorio. Si ha finalizado su taller antes de tiempo, en todo caso puede asistir y participar en la discusión.\n",
    "\n",
    "Para el taller 1, sin embargo, está **obligado** a asistir a la sesión de laboratorio y ser registrado. Para los demás laboratorios puede seguir alguna de las dos rutas mencionadas antes.\n",
    "\n",
    "Lo animamos a que colabore en la elaboración de los talleres. No debería demorarse más de algunos minutos en las preguntas de los talleres sin poder resolverlas, por lo cual puede preguntar a un compañero o profesor. (Explicar ideas a otros también es útil -- La mejor manera de fortalecer su conocimiento sobre una temática es explicándola.) Por favor, les pedimos evitar compartir las respuestas sin explicación. \n",
    "\n",
    "Puede leer más sobre las [políticas del curso](http://data8.org/sp20/policies.html) en la [página web](http://data8.org/sp20/).\n",
    "\n",
    "#### El taller de hoy\n",
    "\n",
    "En el taller de hoy, aprenderá como:\n",
    "\n",
    "1. navegar cuadernos de Jupyter (como este);\n",
    "2. escribir y evaluar expresiones básicas en Python, el lenguaje computacional del curso;\n",
    "3. llamar funciones para usar código que otras personas han escrito; y\n",
    "4. separar código de Python en pequeñas partes para entenderlo.\n",
    "\n",
    "Este taller cubre secciones del [Capítulo 3](http://www.inferentialthinking.com/chapters/03/programming-in-python.html) del texto en línea. Debes leer los ejemplos del libro, pero no en este momento. En su lugar, ¡empecemos!"
   ]
  },
  {
   "cell_type": "markdown",
   "metadata": {},
   "source": [
    "# 1. Cuadrenos de Jupyter (Jupyter notebooks)\n",
    "Esta página web se llama Cuaderno de Jupyter (Jupyter notebook). Un cuaderno es un lugar para escribir programas y ver sus resultados. También permite escribir texto.\n",
    "\n",
    "## 1.1. Celdas de Texto\n",
    "\n",
    "En un cuaderno, cada rectángulo que contiene texto o código se llama *celda* (cell).\n",
    "\n",
    "Las celdas de texto (como ésta) pueden editarse haciendo doble clic sobre ellas. Están escritas en un formato sencillo llamado [Markdown](http://daringfireball.net/projects/markdown/syntax) para añadir formato y encabezados de sección.  No es necesario que aprenda Markdown, pero tal vez quiera hacerlo.\n",
    "\n",
    "Después de editar una celda de texto, haga clic en el botón \"Ejecutar celda\" de la parte superior, que tiene el aspecto de ▶| o mantenga preionadas las teclas `shift` + `return` para confirmar los cambios. (Intente no borrar las instrucciones del taller)."
   ]
  },
  {
   "cell_type": "markdown",
   "metadata": {},
   "source": [
    "**Pregunta 1.1.1.** Este párrafo está en su propia celda de texto.  Intente editarlo de forma que esta frase sea la última del párrafo y, a continuación, haga clic en el botón \"ejecutar celda\" ▶| o mantenga pulsadas las teclas `shift` + `return`.  Esta frase, por ejemplo, debería ser eliminada.  Y esta otra, también."
   ]
  },
  {
   "cell_type": "markdown",
   "metadata": {},
   "source": [
    "## 1.2. Celdas de código\n",
    "Otras celdas contienen código en el lenguaje Python 3. Al ejecutar una celda de código se ejecutará todo el código que contiene.\n",
    "\n",
    "Para ejecutar el código en una celda de código, primero haga clic en esa celda para activarla.  Se resaltará con un pequeño rectángulo verde o azul.  A continuación, pulse ▶| o mantenga pulsadas las teclas `shift` + `return`.\n",
    "\n",
    "Intente ejecutar esta celda:"
   ]
  },
  {
   "cell_type": "code",
   "execution_count": 1,
   "metadata": {},
   "outputs": [],
   "source": [
    "print(\"Hello, World!\")"
   ]
  },
  {
   "cell_type": "markdown",
   "metadata": {},
   "source": [
    "Y esta:"
   ]
  },
  {
   "cell_type": "code",
   "execution_count": 2,
   "metadata": {},
   "outputs": [
    {
     "name": "stdout",
     "output_type": "stream",
     "text": [
      "👋, 🌏!\n"
     ]
    }
   ],
   "source": [
    "print(\"\\N{WAVING HAND SIGN}, \\N{EARTH GLOBE ASIA-AUSTRALIA}!\")"
   ]
  },
  {
   "cell_type": "markdown",
   "metadata": {},
   "source": [
    "El bloque de construcción fundamental del código de Python es una expresión. Las celdas pueden contener varias líneas con múltiples expresiones. Cuando se ejecuta una celda, las líneas de código se ejecutan en el orden en que aparecen. Cada expresión `print` imprime una línea. Ejecute la siguiente celda y observe el orden de la salida."
   ]
  },
  {
   "cell_type": "code",
   "execution_count": 3,
   "metadata": {},
   "outputs": [
    {
     "name": "stdout",
     "output_type": "stream",
     "text": [
      "La primera linea se imprime\n",
      "y ahora esta.\n"
     ]
    }
   ],
   "source": [
    "print(\"La primera linea se imprime\")\n",
    "print(\"y ahora esta.\")"
   ]
  },
  {
   "cell_type": "markdown",
   "metadata": {},
   "source": [
    "**Pregunta 1.2.1.** Cambie la celda de arriba para que se imprima:\n",
    "\n",
    "Primero esta línea,\n",
    "luego toda la 🌏,\n",
    "y luego esta otra.\n",
    "\n",
    "Sugerencia: Si se quedas atascado en el símbolo de la Tierra durante más de unos minutos, intente hablar con un vecino o un profesor. Esto es una buena idea para cualquier problema del taller."
   ]
  },
  {
   "cell_type": "markdown",
   "metadata": {},
   "source": [
    "## 1.3. Escribir cuadernos de Jupyter\n",
    "\n",
    "Puede utilizar los cuadernos Jupyter para sus propios proyectos o documentos. Cuando haga su propio cuaderno, tendrá que crear sus propias celdas para el texto y el código.\n",
    "\n",
    "Para añadir una celda, haga clic en el botón + de la barra de menú. Comenzará como una celda de texto. Puede cambiarla a una celda de código haciendo clic dentro de ella para que quede resaltada, haciendo clic en el cuadro desplegable junto al botón de reinicio (⟳) en la barra de menú, y eligiendo \"Code\".\n",
    "\n",
    "**Pregunta 1.3.1.** Añada una celda de código debajo de ésta. Escriba en ella un código que imprima lo siguiente:\n",
    "\n",
    "    ¡Una celda completamente nueva! ♪🌏♪\n",
    "\n",
    "(Ese símbolo de nota musical es como el símbolo de la Tierra. Su nombre de forma larga es `\\N{EIGHTH NOTE}`.)\n",
    "\n",
    "Ejecute su celda para verificar que funciona."
   ]
  },
  {
   "cell_type": "markdown",
   "metadata": {},
   "source": [
    "## 1.4. Errores\n",
    "Python es un lenguaje, y como los lenguajes humanos naturales, tiene reglas.  Se diferencia del lenguaje natural en dos aspectos importantes:\n",
    "1. Las reglas son *simples*.  Puede aprender la mayoría de ellas en unas pocas semanas y obtener una competencia razonable con el lenguaje en un semestre.\n",
    "2. Las reglas son *rígidas*.  Si se domina un lenguaje natural, se puede entender a un hablante no competente, pasando por alto los pequeños errores.  Un computador que ejecuta código Python no es lo suficientemente inteligente como para hacer eso.\n",
    "\n",
    "Siempre que escriba código, cometerá errores.  Cuando ejecute una celda de código que tiene errores, Python a veces producirá mensajes de error para decirle lo que hizo mal.\n",
    "\n",
    "Los errores están bien; incluso los programadores experimentados cometen muchos errores.  Cuando cometa un error, sólo tiene que encontrar el origen del problema, arreglarlo y seguir adelante.\n",
    "\n",
    "Hemos cometido un error en la siguiente celda.  Ejecútela y vea lo que sucede."
   ]
  },
  {
   "cell_type": "code",
   "execution_count": 4,
   "metadata": {
    "scrolled": true
   },
   "outputs": [
    {
     "ename": "SyntaxError",
     "evalue": "unexpected EOF while parsing (<ipython-input-4-f789d5264e3b>, line 1)",
     "output_type": "error",
     "traceback": [
      "\u001b[1;36m  File \u001b[1;32m\"<ipython-input-4-f789d5264e3b>\"\u001b[1;36m, line \u001b[1;32m1\u001b[0m\n\u001b[1;33m    print(\"A esta linea le falta algo.\"\u001b[0m\n\u001b[1;37m                                       ^\u001b[0m\n\u001b[1;31mSyntaxError\u001b[0m\u001b[1;31m:\u001b[0m unexpected EOF while parsing\n"
     ]
    }
   ],
   "source": [
    "print(\"A esta linea le falta algo.\""
   ]
  },
  {
   "cell_type": "code",
   "execution_count": null,
   "metadata": {
    "for_assignment_type": "solution"
   },
   "outputs": [],
   "source": [
    "print(\"A esta linea le falta algo.\")"
   ]
  },
  {
   "cell_type": "markdown",
   "metadata": {},
   "source": [
    "**Nota:** En la barra de herramientas, existe la opción de hacer clic en \"Celda > Ejecutar todo\", que ejecutará todas las celdas de código en este cuaderno, en orden. Sin embargo, el cuaderno deja de ejecutar las celdas de código si encuentra un error, como el de la celda de arriba."
   ]
  },
  {
   "cell_type": "markdown",
   "metadata": {},
   "source": [
    "Deberías ver algo así (sin nuestras anotaciones):\n",
    "\n",
    "<img src=\"error.jpg\"/>\n",
    "\n",
    "La última línea de la salida de error trata de decirle lo que salió mal.  La *sintaxis* de un lenguaje es su estructura, y este `SyntaxError` le dice que ha creado una estructura ilegal.  \"`EOF`\" significa \"fin de archivo\", así que el mensaje está diciendo que Python esperaba que escribieras algo más (en este caso, un paréntesis derecho) antes de terminar la celda.\n",
    "\n",
    "Hay mucha terminología en los lenguajes de programación, pero no es necesario conocerla toda para programar eficazmente. Si ve un mensaje críptico como éste, a menudo puede continuar sin descifrarlo.  (Por supuesto, si se siente frustrado, pida ayuda a un vecino o a un profesor).\n",
    "\n",
    "Intente arreglar el código anterior para que pueda ejecutar la celda y ver el mensaje previsto en lugar de un error."
   ]
  },
  {
   "cell_type": "markdown",
   "metadata": {},
   "source": [
    "## 1.5. El kernel\n",
    "El kernel es un programa que ejecuta el código dentro de su cuaderno y muestra los resultados. En la parte superior derecha de su ventana, puede ver un círculo que indica el estado de su kernel. Si el círculo está vacío (⚪), el kernel está inactivo y listo para ejecutar código. Si el círculo está relleno (⚫), el kernel está ocupado ejecutando algún código. \n",
    "\n",
    "Junto a cada celda de código, verá un texto que dice `In [...]`. Antes de ejecutar la celda, verá `In [...]`. Cuando la celda se esté ejecutando, verá `In [*]`. Si ve un asterisco (\\*) junto a una celda que no desaparece, es probable que el código dentro de la celda esté tardando demasiado en ejecutarse, y podría ser un buen momento para interrumpir el kernel (se discute más adelante). Cuando una celda termina de ejecutarse, verá un número dentro de los paréntesis, así: `In [1]`. El número corresponde al orden en el que ejecuta las celdas; así, la primera celda que ejecute mostrará un 1 cuando termine de ejecutarse, la segunda mostrará un 2, y así sucesivamente. \n",
    "\n",
    "Es posible que se encuentre con problemas en los que su kernel se quede atascado durante un tiempo excesivo, que su computador sea muy lento y no responda, o que su kernel pierda la conexión. Si esto sucede, intente los siguientes pasos:\n",
    "1. En la parte superior de su pantalla, haga clic en **Kernel**, y luego en **Interrupt**.\n",
    "2. Si eso no ayuda, haga clic en **Kernel**, y luego en **Restart**. Si hace esto, tendrá que ejecutar sus celdas de código desde el inicio de su cuaderno hasta donde pausó su trabajo.\n",
    "3. Si eso no ayuda, reinicie su servidor. Primero, guarde su trabajo haciendo clic en **File** en la parte superior izquierda de su pantalla, y luego en **Save and checkpoint**. A continuación, haga clic en **Control Panel** en la parte superior derecha. Elija **Stop my server** para apagarlo, y luego **Start my server** para volver a ponerlo en funcionamiento. A continuación, vuelva a navegar por el cuaderno en el que estaba trabajando. Tendrá que volver a ejecutar sus celdas de código."
   ]
  },
  {
   "cell_type": "markdown",
   "metadata": {},
   "source": [
    "## 1.6. Enviando su trabajo\n",
    "\n",
    "Todas las tareas del curso se distribuirán en forma de cuadernos como éste, y usted presentará su trabajo desde el cuaderno. Utilizaremos un sistema llamado OK que comprueba su trabajo y le ayuda a enviarlo. En la parte superior de cada tarea, verá una celda como la siguiente que le pide que se identifique. Ejecútelo y siga las instrucciones. Por favor, utilice su dirección @berkeley.edu cuando se identifique."
   ]
  },
  {
   "cell_type": "code",
   "execution_count": null,
   "metadata": {},
   "outputs": [],
   "source": [
    "# No cambie esta celda; sólo ejecútela. \n",
    "# El resultado le dará instrucciones sobre cómo iniciar sesión en el sistema de envío, llamado OK.\n",
    "# Una vez que haya entrado, puede ejecutar esta celda de nuevo, \n",
    "# pero no le preguntará quién es porque lo recuerda. \n",
    "# Sin embargo, tendrá que iniciar la sesión una vez por tarea.\n",
    "# Cuando se conecte, por favor, pulse return (no shift + return) después de escribir su correo electrónico\n",
    "\n",
    "import otter\n",
    "grader = otter.Notebook()"
   ]
  },
  {
   "cell_type": "markdown",
   "metadata": {},
   "source": [
    "Cuando termine una tarea, tiene que enviarla ejecutando el comando de envío que aparece a continuación. Puede enviarla varias veces. OK sólo tratará de calificar el último envío de cada tarea. No olvide enviar su taller al final de la sesión, incluso si no ha terminado todo."
   ]
  },
  {
   "cell_type": "markdown",
   "metadata": {},
   "source": [
    "# 2. Números\n",
    "\n",
    "La información cuantitativa surge por doquier en la ciencia de los datos. Además de representar comandos para imprimir líneas, las expresiones pueden representar números y métodos para combinar números. La expresión `3.2500` se evalúa al número 3.25. (Ejecute la celda y compruébelo)."
   ]
  },
  {
   "cell_type": "code",
   "execution_count": null,
   "metadata": {},
   "outputs": [],
   "source": [
    "3.2500"
   ]
  },
  {
   "cell_type": "markdown",
   "metadata": {},
   "source": [
    "Fíjese que no hemos tenido que usar la función `print`. Cuando ejecutae una celda del cuaderno, si la última línea tiene un valor, entonces Jupyter imprime ese valor por usted. Sin embargo, no imprimirá automáticamente las líneas anteriores."
   ]
  },
  {
   "cell_type": "code",
   "execution_count": null,
   "metadata": {
    "scrolled": true
   },
   "outputs": [],
   "source": [
    "print(2)\n",
    "3\n",
    "4"
   ]
  },
  {
   "cell_type": "markdown",
   "metadata": {},
   "source": [
    "Arriba, debería ver que 4 es el valor de la última expresión, 2 se imprime, pero 3 se pierde para siempre porque no se imprimió ni fue la última.\n",
    "\n",
    "De todos modos, no querrá imprimir todo el tiempo.  Pero si se siente mal por el 3, cambie la celda de arriba para imprimirlo."
   ]
  },
  {
   "cell_type": "markdown",
   "metadata": {},
   "source": [
    "## 2.1. Aritmética\n",
    "La línea de la siguiente celda resta.  Su valor es el esperado.  Ejecútelo."
   ]
  },
  {
   "cell_type": "code",
   "execution_count": null,
   "metadata": {},
   "outputs": [],
   "source": [
    "3.25 - 1.5"
   ]
  },
  {
   "cell_type": "markdown",
   "metadata": {},
   "source": [
    "Muchas operaciones aritméticas básicas están integradas en Python.  La sección del libro de texto sobre [Expresiones](http://www.inferentialthinking.com/chapters/03/1/expressions.html) describe todos los operadores aritméticos utilizados en el curso.  El operador común que difiere de la notación matemática típica es `**`, que eleva un número a la potencia del otro. Así, `2**3` significa $2^3$ y se evalúa como 8. \n",
    "\n",
    "El orden de las operaciones es el mismo que aprendió en la escuela primaria, y Python también tiene paréntesis.  Por ejemplo, compare las salidas de las celdas de abajo. La segunda celda utiliza paréntesis para un ¡feliz año nuevo!"
   ]
  },
  {
   "cell_type": "code",
   "execution_count": null,
   "metadata": {},
   "outputs": [],
   "source": [
    "3+6*5-6*3**2*2**3/4*7"
   ]
  },
  {
   "cell_type": "code",
   "execution_count": null,
   "metadata": {},
   "outputs": [],
   "source": [
    "4+(6*5-(6*3))**2*((2**3)/4*7)"
   ]
  },
  {
   "cell_type": "markdown",
   "metadata": {},
   "source": [
    "En notación matemática estándar, la primera expresión es\n",
    "\n",
    "$$3 + 6 \\times 5 - 6 \\times 3^2 \\times \\frac{2^3}{4} \\times 7,$$\n",
    "\n",
    "mientras que la segunda expresión es\n",
    "\n",
    "$$3 + (6 \\times 5 - (6 \\times 3))^2 \\times (\\frac{(2^3)}{4} \\times 7).$$\n",
    "\n",
    "**Pregunta 2.1.1.** Escribe una expresión de Python en la siguiente celda que sea igual a $5 \\times (3 \\frac{10}{11}) - 50 \\frac{1}{3} + 2^{.5 \\times 22} - \\frac{7}{33} + 3$.  Es decir, cinco veces tres y diez onceavos, menos cincuenta y un tercio, más dos a la potencia de la mitad de veintidós, menos siete treinta y tres avos más tres.  Con \"$3 \\frac{10}{11}$\" queremos decir  $3+\\frac{10}{11}$, no $3 \\times \\frac{10}{11}$.\n",
    "\n",
    "Sustituye las elipses (`...`) por su expresión.  Intente utilizar paréntesis sólo cuando sea necesario.\n",
    "\n",
    "*Pista:* La salida correcta debe comenzar con un número conocido."
   ]
  },
  {
   "cell_type": "code",
   "execution_count": null,
   "metadata": {},
   "outputs": [],
   "source": [
    "..."
   ]
  },
  {
   "cell_type": "markdown",
   "metadata": {},
   "source": [
    "# 3. Nombres\n",
    "\n",
    "En el lenguaje natural, tenemos una terminología que nos permite referenciar rápidamente conceptos muy complicados.  No decimos: \"¡Es un gran mamífero de pelo marrón y dientes afilados!\".  En su lugar, decimos simplemente: \"¡Oso!\".\n",
    "\n",
    "En Python, hacemos esto con *expresiones de asignación*. Una expresión de asignación tiene un nombre a la izquierda de un signo `=` y una expresión a evaluar a la derecha."
   ]
  },
  {
   "cell_type": "code",
   "execution_count": 5,
   "metadata": {},
   "outputs": [],
   "source": [
    "diez = 3 * 2 + 4"
   ]
  },
  {
   "cell_type": "markdown",
   "metadata": {},
   "source": [
    "Cuando ejecute esa celda, Python primero calcula el valor de la expresión del lado derecho, `3 * 2 + 4`, que es el número 10.  Luego asigne ese valor al nombre `diez`.  En ese momento, el código de la celda ha terminado de ejecutarse.\n",
    "\n",
    "Después de ejecutar esa celda, el valor 10 está ligado al nombre `diez`:"
   ]
  },
  {
   "cell_type": "code",
   "execution_count": 6,
   "metadata": {},
   "outputs": [
    {
     "data": {
      "text/plain": [
       "10"
      ]
     },
     "execution_count": 6,
     "metadata": {},
     "output_type": "execute_result"
    }
   ],
   "source": [
    "diez"
   ]
  },
  {
   "cell_type": "markdown",
   "metadata": {},
   "source": [
    "La expresión `diez = 3 * 2 + 4` no está afirmando que `diez` ya es igual a `3 * 2 + 4`, como podríamos esperar por analogía con la notación matemática.  Más bien, esa línea de código cambia el significado de \"diez\"; ahora se refiere al valor 10, mientras que antes no significaba nada.\n",
    "\n",
    "Si los diseñadores de Python hubieran sido despiadadamente pedantes, nos habrían hecho escribir\n",
    "\n",
    "    definir el nombre diez para que en adelante tenga el valor de 3 * 2 + 4 \n",
    "\n",
    "en su lugar.  Probablemente apreciará la brevedad de \"`=`\".  Pero tenga en cuenta que éste es el verdadero significado.\n",
    "\n",
    "**Pregunta 3.1.** Intente escribir un código que utilice un nombre (como \"once\") que no haya sido asignado a nada.  ¡Verá un error!"
   ]
  },
  {
   "cell_type": "code",
   "execution_count": 7,
   "metadata": {},
   "outputs": [
    {
     "data": {
      "text/plain": [
       "Ellipsis"
      ]
     },
     "execution_count": 7,
     "metadata": {},
     "output_type": "execute_result"
    }
   ],
   "source": [
    "..."
   ]
  },
  {
   "cell_type": "markdown",
   "metadata": {},
   "source": [
    "Un patrón común en los cuadernos Jupyter es asignar un valor a un nombre y luego evaluar inmediatamente el nombre en la última línea de la celda para que el valor se muestre como salida. "
   ]
  },
  {
   "cell_type": "code",
   "execution_count": 8,
   "metadata": {},
   "outputs": [
    {
     "data": {
      "text/plain": [
       "3.1415929203539825"
      ]
     },
     "execution_count": 8,
     "metadata": {},
     "output_type": "execute_result"
    }
   ],
   "source": [
    "cerca_a_pi = 355/113\n",
    "cerca_a_pi"
   ]
  },
  {
   "cell_type": "markdown",
   "metadata": {},
   "source": [
    "Otro patrón común es que una serie de líneas en una sola celda construyan un cálculo complejo por etapas, nombrando los resultados intermedios."
   ]
  },
  {
   "cell_type": "code",
   "execution_count": 9,
   "metadata": {},
   "outputs": [
    {
     "data": {
      "text/plain": [
       "20190.0"
      ]
     },
     "execution_count": 9,
     "metadata": {},
     "output_type": "execute_result"
    }
   ],
   "source": [
    "salario_quincenal = 841.25\n",
    "salario_mensual = 2 * salario_quincenal\n",
    "número_de_meses_en_un_año = 12\n",
    "salario_anual = número_de_meses_en_un_año * salario_mensual\n",
    "salario_anual"
   ]
  },
  {
   "cell_type": "markdown",
   "metadata": {},
   "source": [
    "Los nombres en Python pueden tener letras (tanto las mayúsculas como las minúsculas están bien y cuentan como letras diferentes), guiones bajos y números.  El primer carácter no puede ser un número (si no, el nombre podría parecer un número).  Y los nombres no pueden contener espacios, ya que los espacios se utilizan para separar piezas de código entre sí.\n",
    "\n",
    "Aparte de estas reglas, el nombre que le de a algo no le importa *a Python*.  Por ejemplo, esta celda hace lo mismo que la anterior, excepto que todo tiene un nombre diferente:"
   ]
  },
  {
   "cell_type": "code",
   "execution_count": 10,
   "metadata": {},
   "outputs": [
    {
     "data": {
      "text/plain": [
       "20190.0"
      ]
     },
     "execution_count": 10,
     "metadata": {},
     "output_type": "execute_result"
    }
   ],
   "source": [
    "a = 841.25\n",
    "b = 2 * a\n",
    "c = 12\n",
    "d = c * b\n",
    "d"
   ]
  },
  {
   "cell_type": "markdown",
   "metadata": {},
   "source": [
    "**Sin embargo**, los nombres son muy importantes para que su código sea *legible* para usted y para los demás.  La celda de arriba es más corta, pero es totalmente inútil sin una explicación de lo que hace."
   ]
  },
  {
   "cell_type": "markdown",
   "metadata": {},
   "source": [
    "## 3.1. Revisado su código\n",
    "Ahora que sabe cómo nombrar las cosas, puede empezar a utilizar las *pruebas* incorporadas para comprobar si su trabajo es correcto. A veces, hay múltiples pruebas para una sola pregunta, y es necesario pasarlas todas para recibir crédito por la pregunta. Por favor, no cambie el contenido de las celdas de las pruebas. \n",
    "\n",
    "Siga adelante e intente la pregunta 3.2. Si ejecuta la celda directamente después de ella, comprobará si ha asignado correctamente `segundos_en_una_década` en la pregunta 3.2. Si no lo ha hecho, esta prueba le dirá la respuesta correcta. Resista la tentación de copiarla y, en su lugar, intente ajustar su expresión. (A veces las pruebas dan pistas sobre lo que ha fallado...)"
   ]
  },
  {
   "cell_type": "markdown",
   "metadata": {},
   "source": [
    "**Pregunta 3.1.2.** Asigne el nombre `segundos_en_una_década` al número de segundos entre la medianoche del 1 de enero de 2010 y la medianoche del 1 de enero de 2020. Tenga en cuenta que hay dos años bisiestos en este lapso de una década. Un año no bisiesto tiene 365 días y un año bisiesto tiene 366 días.\n",
    "\n",
    "*Pista:* Si se queda atascado, la siguiente sección le muestra cómo obtener pistas.\n",
    "\n",
    "```\n",
    "BEGIN QUESTION\n",
    "name: q3_1_2\n",
    "```"
   ]
  },
  {
   "cell_type": "code",
   "execution_count": 11,
   "metadata": {},
   "outputs": [
    {
     "data": {
      "text/plain": [
       "315532800"
      ]
     },
     "execution_count": 11,
     "metadata": {},
     "output_type": "execute_result"
    }
   ],
   "source": [
    "# Cambie la siguiente línea \n",
    "# para que calcule el número de segundos en una década \n",
    "# y asigne a ese número el nombre, segundos_en_una_década.\n",
    "\n",
    "segundos_en_una_década = (365*8 + 366*2) * 24 * 60 * 60 # SOLUTION\n",
    "\n",
    "# Hemos puesto esta línea en esta celda \n",
    "# para que imprima el valor que ha dado a segundos_en_una_década cuando lo ejecute.  \n",
    "# No necesita cambiar esto.\n",
    "segundos_en_una_década"
   ]
  },
  {
   "cell_type": "code",
   "execution_count": 12,
   "metadata": {},
   "outputs": [
    {
     "data": {
      "text/plain": [
       "True"
      ]
     },
     "execution_count": 12,
     "metadata": {},
     "output_type": "execute_result"
    }
   ],
   "source": [
    "# TEST\n",
    "# Parece que no le dio el nombre\n",
    "# segundos_en_una_década a nada. Tal vez hay un error tipográfico, o tal vez usted \n",
    "# sólo necesita ejecutar la celda debajo de la pregunta 3.2 donde definió \n",
    "# segundos_en_una_década. Haga clic en esa celda y luego haga clic en el botón \"ejecutar\n",
    "# celda\" en la barra de menú de arriba).\n",
    "'segundos_en_una_década' in vars()\n"
   ]
  },
  {
   "cell_type": "code",
   "execution_count": 13,
   "metadata": {},
   "outputs": [
    {
     "data": {
      "text/plain": [
       "True"
      ]
     },
     "execution_count": 13,
     "metadata": {},
     "output_type": "execute_result"
    }
   ],
   "source": [
    "# TEST\n",
    "# Parece que no ha cambiado la celda para definir\n",
    "# segundos_en_una_década apropiadamente.  Debería ser un número\n",
    "# calculado usando la aritmética de Python.  Por ejemplo, esto es\n",
    "# casi correcto:\n",
    "# segundos_en_una_década = 10*365*24*60*60\n",
    "segundos_en_una_década != ..."
   ]
  },
  {
   "cell_type": "code",
   "execution_count": 14,
   "metadata": {},
   "outputs": [
    {
     "data": {
      "text/plain": [
       "True"
      ]
     },
     "execution_count": 14,
     "metadata": {},
     "output_type": "execute_result"
    }
   ],
   "source": [
    "# TEST\n",
    "# Parece que no ha tenido en cuenta los años bisiestos.\n",
    "# Hubo 2 años bisiestos y 8 no bisiestos en este periodo.\n",
    "# Los años bisiestos tienen 366 días en lugar de 365.\n",
    "segundos_en_una_década != 315360000"
   ]
  },
  {
   "cell_type": "code",
   "execution_count": 15,
   "metadata": {},
   "outputs": [
    {
     "data": {
      "text/plain": [
       "True"
      ]
     },
     "execution_count": 15,
     "metadata": {},
     "output_type": "execute_result"
    }
   ],
   "source": [
    "# HIDDEN TEST\n",
    "segundos_en_una_década == 315532800"
   ]
  },
  {
   "cell_type": "markdown",
   "metadata": {},
   "source": [
    "# 3.2. Comentarios\n",
    "Es posible que haya notado estas líneas en la celda en la que respondió a la pregunta 3.2:\n",
    "\n",
    "    # Cambie la siguiente línea \n",
    "    # para que calcule el número de segundos en una década \n",
    "    # y asigne a ese número el nombre, segundos_en_una_década.\n",
    "    \n",
    "Esto se llama un *comentario*. No hace que ocurra nada en Python; Python ignora cualquier cosa en una línea después de un `#`.  En cambio, está ahí para comunicar algo sobre el código a usted, el lector humano. Los comentarios son extremadamente útiles. \n",
    "\n",
    "<img src=\"http://imgs.xkcd.com/comics/future_self.png\">\n",
    "Source: http://imgs.xkcd.com/comics/future_self.png"
   ]
  },
  {
   "cell_type": "markdown",
   "metadata": {},
   "source": [
    "## 3.3. Aplicación: Un experimento de física\n",
    "\n",
    "En la misión Apolo 15 a la Luna, el astronauta David Scott reprodujo el famoso experimento de física de Galileo en el que demostró que la gravedad acelera objetos de diferente masa a la misma velocidad. Como no hay resistencia del aire para un objeto que cae en la superficie de la Luna, incluso dos objetos con masas y densidades muy diferentes deberían caer a la misma velocidad. David Scott comparó una pluma y un martillo.\n",
    "\n",
    "Puede ejecutar la siguiente celda para ver un vídeo del experimento."
   ]
  },
  {
   "cell_type": "code",
   "execution_count": 16,
   "metadata": {},
   "outputs": [
    {
     "data": {
      "image/jpeg": "[encoded data removed]",
      "text/html": [
       "\n",
       "        <iframe\n",
       "            width=\"400\"\n",
       "            height=\"300\"\n",
       "            src=\"https://www.youtube.com/embed/U7db6ZeLR5s\"\n",
       "            frameborder=\"0\"\n",
       "            allowfullscreen\n",
       "        ></iframe>\n",
       "        "
      ],
      "text/plain": [
       "<IPython.lib.display.YouTubeVideo at 0x1e69b749820>"
      ]
     },
     "execution_count": 16,
     "metadata": {},
     "output_type": "execute_result"
    }
   ],
   "source": [
    "from IPython.display import YouTubeVideo\n",
    "# The original URL is: \n",
    "# https://www.youtube.com/watch?v=U7db6ZeLR5s\n",
    "\n",
    "YouTubeVideo(\"U7db6ZeLR5s\")"
   ]
  },
  {
   "cell_type": "markdown",
   "metadata": {},
   "source": [
    "Aquí está la transcripción del vídeo:\n",
    "\n",
    "**167:22:06 Scott**: Bueno, en mi mano izquierda tengo una pluma; en mi mano derecha, un martillo. Y supongo que una de las razones por las que llegamos aquí hoy fue por un caballero llamado Galileo, hace mucho tiempo, que hizo un descubrimiento bastante significativo sobre la caída de objetos en campos gravitatorios. Y pensamos que cuál sería el mejor lugar para confirmar sus descubrimientos que la Luna. Así que pensamos en probarlo aquí para ustedes. La pluma resulta ser, apropiadamente, una pluma de halcón para nuestro Halcón. Y dejaré caer las dos aquí y, con suerte, tocarán el suelo al mismo tiempo. \n",
    "\n",
    "**167:22:43 Scott**: ¡Qué tal!\n",
    "\n",
    "**167:22:45 Allen**: ¡Qué tal! (Aplausos en Houston)\n",
    "\n",
    "**167:22:46 Scott**: Lo que demuestra que el señor Galileo tenía razón en sus descubrimientos."
   ]
  },
  {
   "cell_type": "markdown",
   "metadata": {},
   "source": [
    "**Ley de Newton.** Usando este video, también podemos intentar confirmar otra famosa frase de la física: La ley de Newton de la gravitación universal. Las leyes de Newton predicen que cualquier objeto que se deje caer cerca de la superficie de la Luna debería caer\n",
    "\n",
    "$$\\frac{1}{2} G \\frac{M}{R^2} t^2 \\text{ meters}$$\n",
    "\n",
    "después de $t$ segundos, donde $G$ es una constante universal, $M$ es la masa de la luna en kilogramos, y $R$ es el radio de la luna en metros.  Por tanto, si conocemos $G$, $M$ y $R$, las leyes de Newton nos permiten predecir la distancia a la que caerá un objeto en cualquier cantidad de tiempo.\n",
    "\n",
    "Para verificar la exactitud de esta ley, calcularemos la diferencia entre la distancia predicha en que cae el martillo y la distancia real.  (Si son diferentes, puede ser porque las leyes de Newton están equivocadas, o porque nuestras mediciones son imprecisas, o porque hay otros factores que afectan al martillo y que no hemos tenido en cuenta).\n",
    "\n",
    "Alguien ha estudiado el vídeo y ha calculado que el martillo cayó a 113 cm de la superficie. Contando los fotogramas del vídeo, el martillo cae durante 1,2 segundos (36 fotogramas)."
   ]
  },
  {
   "cell_type": "markdown",
   "metadata": {},
   "source": [
    "**Pregunta 3.3.1.** Complete el código en la siguiente celda para rellenar los datos del experimento.\n",
    "\n",
    "*Pista:* No es necesario realizar ningún cálculo; basta con rellenar los datos del párrafo anterior.\n",
    "\n",
    "```\n",
    "BEGIN QUESTION\n",
    "name: q3_3_1\n",
    "```"
   ]
  },
  {
   "cell_type": "code",
   "execution_count": 17,
   "metadata": {},
   "outputs": [],
   "source": [
    "# t, la duración de la caída en el experimento, en segundos.\n",
    "# RellenE esto.\n",
    "tiempo = 1.2 # SOLUTION\n",
    "\n",
    "# La distancia estimada que el martillo realmente cayó, en metros.\n",
    "# RellenE esto.\n",
    "distancia_estimada_m = 1.13 # SOLUTION"
   ]
  },
  {
   "cell_type": "code",
   "execution_count": 18,
   "metadata": {},
   "outputs": [
    {
     "data": {
      "text/plain": [
       "True"
      ]
     },
     "execution_count": 18,
     "metadata": {},
     "output_type": "execute_result"
    }
   ],
   "source": [
    "# TEST\n",
    "# Rellene la fila\n",
    "#   tiempo = ...\n",
    "# with something like:\n",
    "#   tiempo = 4.567\n",
    "# (pero con el número correcto).\n",
    "tiempo != ..."
   ]
  },
  {
   "cell_type": "code",
   "execution_count": 19,
   "metadata": {},
   "outputs": [
    {
     "data": {
      "text/plain": [
       "True"
      ]
     },
     "execution_count": 19,
     "metadata": {},
     "output_type": "execute_result"
    }
   ],
   "source": [
    "# TEST\n",
    "# Léa el texto sobre la pregunta para ver qué tiempo debe ser.\n",
    "round(tiempo, 5) == 1.2"
   ]
  },
  {
   "cell_type": "code",
   "execution_count": 20,
   "metadata": {},
   "outputs": [
    {
     "data": {
      "text/plain": [
       "True"
      ]
     },
     "execution_count": 20,
     "metadata": {},
     "output_type": "execute_result"
    }
   ],
   "source": [
    "# TEST\n",
    "# Diligencie la fila\n",
    "#   distancia_estimada_m = ...\n",
    "# con algo como:\n",
    "#   distancia_estimada_m = 4.567\n",
    "# (pero con el número correcto).\n",
    "distancia_estimada_m != ..."
   ]
  },
  {
   "cell_type": "code",
   "execution_count": 21,
   "metadata": {},
   "outputs": [
    {
     "data": {
      "text/plain": [
       "True"
      ]
     },
     "execution_count": 21,
     "metadata": {},
     "output_type": "execute_result"
    }
   ],
   "source": [
    "# TEST\n",
    "# Note que las unidades son metros, pero el texto usó centímetros.\n",
    "distancia_estimada_m != 113"
   ]
  },
  {
   "cell_type": "code",
   "execution_count": 22,
   "metadata": {},
   "outputs": [
    {
     "data": {
      "text/plain": [
       "True"
      ]
     },
     "execution_count": 22,
     "metadata": {},
     "output_type": "execute_result"
    }
   ],
   "source": [
    "# TEST\n",
    "# Léa el texto sobre la pregunta para ver qué tiempo debe ser.\n",
    "round(distancia_estimada_m, 5) == 1.13"
   ]
  },
  {
   "cell_type": "markdown",
   "metadata": {},
   "source": [
    "**Pregunta 3.3.2.** Ahora, complete el código en la siguiente celda para calcular la diferencia entre las distancias predichas y estimadas (en metros) que cayó el martillo en este experimento.\n",
    "\n",
    "Esto sólo significa traducir la fórmula anterior ($\\frac{1}{2}G\\frac{M}{R^2}t^2$) en código Python.  Tendrá que sustituir cada variable de la fórmula matemática por el nombre que le hemos dado a ese número en código Python.\n",
    "\n",
    "*Pista:* Intente utilizar las variables que ya ha definido en la pregunta 3.3.1\n",
    "\n",
    "```\n",
    "BEGIN QUESTION\n",
    "name: q3_3_2\n",
    "```"
   ]
  },
  {
   "cell_type": "code",
   "execution_count": 23,
   "metadata": {},
   "outputs": [
    {
     "data": {
      "text/plain": [
       "0.040223694659304865"
      ]
     },
     "execution_count": 23,
     "metadata": {},
     "output_type": "execute_result"
    }
   ],
   "source": [
    "# Primero, hemos escrito los valores de las 3 constantes universales \n",
    "# que aparecen en la fórmula de Newton.\n",
    "\n",
    "constante_gravedad = 6.674 * 10**-11 \n",
    "\n",
    "# M, la masa de la luna, en kilogramos.\n",
    "masa_luna_kg = 7.34767309 * 10**22 \n",
    "\n",
    "# R, el radio de la luna, en metros.\n",
    "radio_luna_m = 1.737 * 10**6 \n",
    "\n",
    "# La distancia que debería haber caído el martillo \n",
    "# durante la duración de la caída, en metros, \n",
    "# según la ley de la gravedad de Newton.  \n",
    "# El texto anterior describe la fórmula\n",
    "# para esta distancia dada por la ley de Newton.\n",
    "# **COMPLETE USTED ESTA PARTE.**\n",
    "\n",
    "distancia_predicha_m = (1/2) * constante_gravedad * (masa_luna_kg / radio_luna_m**2) * tiempo**2 # SOLUCIÓN\n",
    "\n",
    "# Aquí hemos calculado la diferencia \n",
    "# entre la distancia de caída predicha y la distancia que realmente medimos.\n",
    "# Si ha rellenado el código anterior, esto debería funcionar.\n",
    "\n",
    "diferencia = distancia_predicha_m - distancia_estimada_m\n",
    "diferencia"
   ]
  },
  {
   "cell_type": "code",
   "execution_count": 24,
   "metadata": {},
   "outputs": [
    {
     "data": {
      "text/plain": [
       "True"
      ]
     },
     "execution_count": 24,
     "metadata": {},
     "output_type": "execute_result"
    }
   ],
   "source": [
    "# TEST \n",
    "# RellenE la línea que actualmente dice\n",
    "# predicted_distance_m = ...\n",
    "# en la celda de arriba.\n",
    "\n",
    "distancia_predicha_m != ..."
   ]
  },
  {
   "cell_type": "code",
   "execution_count": 25,
   "metadata": {},
   "outputs": [
    {
     "data": {
      "text/plain": [
       "True"
      ]
     },
     "execution_count": 25,
     "metadata": {},
     "output_type": "execute_result"
    }
   ],
   "source": [
    "# TEST\n",
    "# CalculE la distancia_predicha_m usando la fórmula del texto\n",
    "# anterior.  Sugerencia: debe comenzar con algo como esto:\n",
    "# distancia_predicha_m = (1/2) * constante_gravedad ...\n",
    "\n",
    "round(distancia_predicha_m, 5) == 1.17022"
   ]
  },
  {
   "cell_type": "code",
   "execution_count": 26,
   "metadata": {},
   "outputs": [
    {
     "data": {
      "text/plain": [
       "True"
      ]
     },
     "execution_count": 26,
     "metadata": {},
     "output_type": "execute_result"
    }
   ],
   "source": [
    "# TEST\n",
    "round(diferencia, 5)  == 0.04022"
   ]
  },
  {
   "cell_type": "markdown",
   "metadata": {},
   "source": [
    "## 4. Llamada a funciones\n",
    "\n",
    "La forma más común de combinar o manipular valores en Python es llamando funciones. Python viene con muchas funciones incorporadas que realizan operaciones comunes.\n",
    "\n",
    "Por ejemplo, la función `abs` toma un único número como argumento y devuelve el valor absoluto de ese número. Ejecute las dos celdas siguientes y vea si entiende la salida."
   ]
  },
  {
   "cell_type": "code",
   "execution_count": 27,
   "metadata": {},
   "outputs": [
    {
     "data": {
      "text/plain": [
       "5"
      ]
     },
     "execution_count": 27,
     "metadata": {},
     "output_type": "execute_result"
    }
   ],
   "source": [
    "abs(5)"
   ]
  },
  {
   "cell_type": "code",
   "execution_count": 28,
   "metadata": {},
   "outputs": [
    {
     "data": {
      "text/plain": [
       "5"
      ]
     },
     "execution_count": 28,
     "metadata": {},
     "output_type": "execute_result"
    }
   ],
   "source": [
    "abs(-5)"
   ]
  },
  {
   "cell_type": "markdown",
   "metadata": {},
   "source": [
    "## 4.1. Aplicación: Calcular las distancias de una caminata\n",
    "\n",
    "Chunhua está en la esquina de la 7ª Avenida y la calle 42 en el centro de Manhattan, y quiere saber la distancia que tendría que caminar para llegar a la escuela Gramercy en la esquina de la 10ª Avenida y la calle 34.\n",
    "\n",
    "No puede atravesar las manzanas en diagonal, ya que hay edificios en el camino.  Tiene que caminar por las aceras.  Utilizando el mapa de abajo, ve que tendría que caminar 3 avenidas (cuadras largas) y 8 calles (cuadras cortas).  En términos de los números dados, ha calculado el 3 como la diferencia entre el 7 y el 10, *en valor absoluto*, y el 8 de forma similar.  \n",
    "\n",
    "Chunhua también sabe que las cuadras de Manhattan miden aproximadamente 80 m por 274 m (las avenidas están más separadas que las calles).  Así que, en total, tendría que caminar $(80 \\times |42 - 34| + 274 \\times |7 - 10|)$ metros para llegar al parque.\n",
    "\n",
    "<img src=\"map.jpg\"/>\n",
    "\n",
    "**Pregunta 4.1.1.** Rellene la línea `num_avenidas_aparte = ...` en la siguiente celda para que ésta calcule la distancia que debe recorrer Chunhua y le dé el nombre de `distancia_manhattan`.  Todo lo demás se ha rellenado por usted.  **Utilice la función `abs`.** Además, asegúrase de ejecutar la celda de prueba después para comprobar su código.\n",
    "\n",
    "```\n",
    "BEGIN QUESTION\n",
    "name: q4_1_1\n",
    "```"
   ]
  },
  {
   "cell_type": "code",
   "execution_count": 29,
   "metadata": {},
   "outputs": [
    {
     "data": {
      "text/plain": [
       "1462"
      ]
     },
     "execution_count": 29,
     "metadata": {},
     "output_type": "execute_result"
    }
   ],
   "source": [
    "# Aquí está el número de calles de distancia:\n",
    "num_calles_aparte = abs(42-34)\n",
    "\n",
    "# Calcule el número de avenidas de distancia de manera similar:\n",
    "num_avenidas_aparte = abs(7-10) # SOLUTION\n",
    "\n",
    "largo_calle_m = 80\n",
    "largo_avenida_m = 274\n",
    "\n",
    "# Ahora calculamos la distancia total que debe caminar Chunhua.\n",
    "distancia_manhattan = largo_calle_m*num_calles_aparte + largo_avenida_m*num_avenidas_aparte\n",
    "\n",
    "# Hemos incluido esta línea para que vea la distancia que ha calculado \n",
    "# cuando ejecute esta celda.  \n",
    "# No es necesario que la cambie, pero puede hacerlo si quiere.\n",
    "distancia_manhattan"
   ]
  },
  {
   "cell_type": "code",
   "execution_count": 30,
   "metadata": {},
   "outputs": [
    {
     "data": {
      "text/plain": [
       "True"
      ]
     },
     "execution_count": 30,
     "metadata": {},
     "output_type": "execute_result"
    }
   ],
   "source": [
    "# TEST\n",
    "# Diligencie la linea\n",
    "#   num_avenidas_aparte = ...\n",
    "# en la celda de arriba.\n",
    "num_avenidas_aparte != ..."
   ]
  },
  {
   "cell_type": "code",
   "execution_count": 31,
   "metadata": {},
   "outputs": [
    {
     "data": {
      "text/plain": [
       "True"
      ]
     },
     "execution_count": 31,
     "metadata": {},
     "output_type": "execute_result"
    }
   ],
   "source": [
    "# TEST\n",
    "\n",
    "# Recuerde calcular el valor absoluto de 7-10.  Viajando \n",
    "# \"-3 cuadras\" no tiene mucho sentido!\n",
    "\n",
    "num_avenidas_aparte != -3"
   ]
  },
  {
   "cell_type": "code",
   "execution_count": 32,
   "metadata": {},
   "outputs": [
    {
     "data": {
      "text/plain": [
       "True"
      ]
     },
     "execution_count": 32,
     "metadata": {},
     "output_type": "execute_result"
    }
   ],
   "source": [
    "# TEST\n",
    "num_avenidas_aparte == 3"
   ]
  },
  {
   "cell_type": "code",
   "execution_count": 33,
   "metadata": {},
   "outputs": [
    {
     "data": {
      "text/plain": [
       "True"
      ]
     },
     "execution_count": 33,
     "metadata": {},
     "output_type": "execute_result"
    }
   ],
   "source": [
    "# TEST \n",
    "distancia_manhattan == 1462"
   ]
  },
  {
   "cell_type": "markdown",
   "metadata": {},
   "source": [
    "#####  Múltiples argumentos\n",
    "Algunas funciones toman múltiples argumentos, separados por comas. Por ejemplo, la función incorporada `max` devuelve el argumento máximo que se le ha pasado."
   ]
  },
  {
   "cell_type": "code",
   "execution_count": 34,
   "metadata": {},
   "outputs": [
    {
     "data": {
      "text/plain": [
       "4"
      ]
     },
     "execution_count": 34,
     "metadata": {},
     "output_type": "execute_result"
    }
   ],
   "source": [
    "max(2, -3, 4, -5)"
   ]
  },
  {
   "cell_type": "markdown",
   "metadata": {},
   "source": [
    "# 5. Entender las expresiones anidadas\n",
    "Las llamadas a funciones y las expresiones aritméticas pueden contener a su vez expresiones.  Has visto un ejemplo en la última pregunta:\n",
    "\n",
    "    abs(42-34)\n",
    "\n",
    "tiene 2 expresiones numéricas en una expresión de sustracción en una expresión de llamada a función.  Y probablemente escribiste algo como `abs(7-10)` para calcular `num_avenidas_aparte`.\n",
    "\n",
    "Las expresiones anidadas pueden convertirse en un código de aspecto complicado. Sin embargo, la forma en que las expresiones complicadas se descomponen es muy regular.\n",
    "\n",
    "Supongamos que nos interesan las alturas que son muy inusuales.  Diremos que una altura es inusual en la medida en que se aleja en la recta numérica de la altura humana media.  [Una estimación](http://press.endocrine.org/doi/full/10.1210/jcem.86.9.7875?ck=nck&) de la altura media humana adulta (promediando, esperamos, sobre todos los humanos de la Tierra hoy en día) es de 1,688 metros.\n",
    "\n",
    "Por lo tanto, si Kayla mide 1,21 metros, entonces su altura está a $|1,21 - 1,688|$, o $,478$, metros de la media.  Aquí hay una imagen de eso:\n",
    "\n",
    "<img src=\"numberline_0.png\">\n",
    "\n",
    "Y aquí está cómo escribiríamos eso en una línea de código Python:\n",
    "\n"
   ]
  },
  {
   "cell_type": "code",
   "execution_count": 35,
   "metadata": {},
   "outputs": [
    {
     "data": {
      "text/plain": [
       "0.478"
      ]
     },
     "execution_count": 35,
     "metadata": {},
     "output_type": "execute_result"
    }
   ],
   "source": [
    "abs(1.21 - 1.688)"
   ]
  },
  {
   "cell_type": "markdown",
   "metadata": {},
   "source": [
    "¿Qué ocurre aquí?  `abs` toma sólo un argumento, por lo que todo lo que hay dentro de los paréntesis es parte de ese *único argumento*.  En concreto, el argumento es el valor de la expresión `1,21 - 1,688`.  El valor de esa expresión es `-.478`.  Ese valor es el argumento de `abs`.  El valor absoluto de eso es `.478`, así que `.478` es el valor de la expresión completa `abs(1.21 - 1.688)`.\n",
    "\n",
    "Imagíne simplificar la expresión en varios pasos:\n",
    "\n",
    "1. `abs(1,21 - 1,688)`\n",
    "2. `abs(-.478)`\n",
    "3. `.478`\n",
    "\n",
    "De hecho, eso es básicamente lo que hace Python para calcular el valor de la expresión."
   ]
  },
  {
   "cell_type": "markdown",
   "metadata": {},
   "source": [
    "**Pregunta 5.1.** Digamos que la altura de Paola es de 1,76 metros.  En la siguiente celda, utilice `abs` para calcular el valor absoluto de la diferencia entre la altura de Paola y la altura media humana.  Dele a ese valor el nombre de `distancia_de_la_media_m`.\n",
    "\n",
    "<img src=\"numberline_1.png\">\n",
    "\n",
    "```\n",
    "BEGIN QUESTION\n",
    "name: q51\n",
    "```"
   ]
  },
  {
   "cell_type": "code",
   "execution_count": 36,
   "metadata": {},
   "outputs": [
    {
     "data": {
      "text/plain": [
       "0.07200000000000006"
      ]
     },
     "execution_count": 36,
     "metadata": {},
     "output_type": "execute_result"
    }
   ],
   "source": [
    "# Sustituir el ... por una expresión \n",
    "# para calcular el valor absoluto \n",
    "# de la diferencia entre la altura de Paola (1,76m) y la altura media humana.\n",
    "\n",
    "paola_distancia_de_la_media_m = abs(1.76 - 1.688) # SOLUTION\n",
    "\n",
    "# De nuevo, hemos escrito esto aquí \n",
    "# para que la distancia calculada se imprima \n",
    "# cuando se ejecute esta celda.\n",
    "\n",
    "paola_distancia_de_la_media_m"
   ]
  },
  {
   "cell_type": "code",
   "execution_count": 37,
   "metadata": {},
   "outputs": [
    {
     "data": {
      "text/plain": [
       "True"
      ]
     },
     "execution_count": 37,
     "metadata": {},
     "output_type": "execute_result"
    }
   ],
   "source": [
    "# TEST\n",
    "round(paola_distancia_de_la_media_m, 5) == 0.072"
   ]
  },
  {
   "cell_type": "markdown",
   "metadata": {},
   "source": [
    "## 5.1. Más sobre anidamiento\n",
    "Digamos que ahora queremos calcular la más inusual de las dos alturas.  Usaremos la función `max`, que (de nuevo) toma dos números como argumentos y devuelve el mayor de los dos argumentos.  Combinando eso con la función `abs`, podemos calcular la mayor distancia de la media entre las dos alturas:"
   ]
  },
  {
   "cell_type": "code",
   "execution_count": 38,
   "metadata": {},
   "outputs": [
    {
     "name": "stdout",
     "output_type": "stream",
     "text": [
      "La mayor distancia de la altura promedio entre estas dos personas es 0.478 metros.\n"
     ]
    }
   ],
   "source": [
    "# Sólo léa y ejecuta esta celda.\n",
    "\n",
    "kayla_altura_m = 1.21\n",
    "paola_altura_m = 1.76\n",
    "altura_promedio_adulto_m = 1.688\n",
    "\n",
    "# The larger distance from the average human height, among the two heights:\n",
    "mayor_distancia_m = max(abs(kayla_altura_m - altura_promedio_adulto_m), abs(paola_altura_m - altura_promedio_adulto_m))\n",
    "\n",
    "# Print out our results in a nice readable format:\n",
    "print(\"La mayor distancia de la altura promedio entre estas dos personas es\", mayor_distancia_m, \"metros.\")"
   ]
  },
  {
   "cell_type": "markdown",
   "metadata": {},
   "source": [
    "La línea en la que se calcula `mayor_distancia_m` parece complicada, pero podemos descomponerla en componentes más sencillos como hicimos antes.\n",
    "\n",
    "La receta básica es simplificar repetidamente pequeñas partes de la expresión:\n",
    "* **Expresiones básicas:** Empezar con expresiones cuyos valores conocemos, como nombres o números.\n",
    "    - Ejemplos: `paola_altura_m` o `5`.\n",
    "* **Busca el siguiente grupo de expresiones más sencillo:** Buscar expresiones básicas que estén directamente conectadas entre sí. Esto puede ser por aritmética o como argumentos de una llamada a una función. \n",
    "    - Ejemplo: `kayla_altura_m - altura_promedio_adulto_m`.\n",
    "* **Evaluar ese grupo:** Evaluar la expresión aritmética o la llamada a la función. Utilice el valor calculado para reemplazar el grupo de expresiones.  \n",
    "    - Ejemplo: `kayla_altura_m - altura_promedio_adulto_m` se convierte en `-.478`.\n",
    "* **Repetir:** Continuar este proceso, utilizando el valor de la expresión previamente evaluada como una nueva expresión básica. Parar cuando hayamos evaluado toda la expresión.\n",
    "    - Ejemplo: `abs(-.478)` se convierte en `.478`, y `max(.478, .072)` se convierte en `.478`.\n",
    "\n",
    "Puede ejecutar la siguiente celda para ver una presentación de ese proceso."
   ]
  },
  {
   "cell_type": "code",
   "execution_count": 39,
   "metadata": {},
   "outputs": [
    {
     "data": {
      "text/html": [
       "\n",
       "        <iframe\n",
       "            width=\"800\"\n",
       "            height=\"600\"\n",
       "            src=\"https://docs.google.com/presentation/d/e/2PACX-1vTiIUOa9tP4pHPesrI8p2TCp8WCOJtTb3usOacQFPfkEfvQMmX-JYEW3OnBoTmQEJWAHdBP6Mvp053G/embed?start=false&loop=false&delayms=3000\"\n",
       "            frameborder=\"0\"\n",
       "            allowfullscreen\n",
       "        ></iframe>\n",
       "        "
      ],
      "text/plain": [
       "<IPython.lib.display.IFrame at 0x1e69b777520>"
      ]
     },
     "execution_count": 39,
     "metadata": {},
     "output_type": "execute_result"
    }
   ],
   "source": [
    "from IPython.display import IFrame\n",
    "IFrame('https://docs.google.com/presentation/d/e/2PACX-1vTiIUOa9tP4pHPesrI8p2TCp8WCOJtTb3usOacQFPfkEfvQMmX-JYEW3OnBoTmQEJWAHdBP6Mvp053G/embed?start=false&loop=false&delayms=3000', 800, 600)"
   ]
  },
  {
   "cell_type": "markdown",
   "metadata": {},
   "source": [
    "Ahora, su turno. \n",
    "\n",
    "**Pregunta 5.1.1.** Dadas las alturas de los jugadores de los Golden State Warriors, escriba una expresión que calcule la menor diferencia entre cualquiera de las tres alturas. Su expresión no debe contener ningún número, sólo llamadas a funciones y los nombres `klay`, `steph` y `dangelo`. Dele al valor de tu expresión el nombre   `diferencia_de_altura_mínima`.\n",
    "\n",
    "```\n",
    "BEGIN QUESTION\n",
    "name: q5_1_1\n",
    "```"
   ]
  },
  {
   "cell_type": "code",
   "execution_count": 40,
   "metadata": {},
   "outputs": [],
   "source": [
    "# La altura de los tres jugadores, en metros\n",
    "klay =  2.01 # Klay Thompson\n",
    "steph = 1.91 # Steph Curry\"\n",
    "dangelo = 1.95 # D'Angelo Russell\"\n",
    "             \n",
    "# Queremos ver los 3 pares de alturas, \n",
    "# calcular la diferencia absoluta entre cada par, \n",
    "# y luego encontrar la menor de esas 3 diferencias absolutas.  \n",
    "# ¡Esto se lo dejamos a usted!  \n",
    "# Si está atascado, intente calcular el valor de cada paso del proceso \n",
    "# (como la diferencia entre la altura de Klay y la de Steph) \n",
    "# en una línea separada y dándole un nombre (como klay_steph_dif_altura)\n",
    "\n",
    "diferencia_de_altura_mínima = min(abs(klay - steph), abs(klay-dangelo), abs(steph-dangelo)) # SOLUTION"
   ]
  },
  {
   "cell_type": "code",
   "execution_count": 41,
   "metadata": {},
   "outputs": [
    {
     "data": {
      "text/plain": [
       "True"
      ]
     },
     "execution_count": 41,
     "metadata": {},
     "output_type": "execute_result"
    }
   ],
   "source": [
    "# TEST\n",
    "round(diferencia_de_altura_mínima, 5) == 0.04"
   ]
  },
  {
   "cell_type": "markdown",
   "metadata": {},
   "source": [
    "¡Ya ha terminado con el Taller 1!  Asegúrese de ejecutar las pruebas y verificar que todas pasan, luego elija **Guardar y verificar** en el menú **Archivo**, luego **ejecutar la celda final** para enviar su trabajo.  Si envía varias veces, se contará su último envío."
   ]
  }
 ],
 "metadata": {
  "anaconda-cloud": {},
  "celltoolbar": "Edit Metadata",
  "history": [
   {
    "code": "**SOLUTION:** {\n  'name': 'q3_1_2',\n  'points': 1,\n  'suites': [\n    {\n      'cases': [\n        {\n          'code': r\"\"\"\n          >>> # It looks like you didn't give anything the name;\n          >>> # seconds_in_a_decade.  Maybe there's a typo, or maybe you;\n          >>> # just need to run the cell below Question 3.2 where you defined;\n          >>> # seconds_in_a_decade.  (Click that cell and then click the \"run;\n          >>> # cell\" button in the menu bar above.);\n          >>> 'seconds_in_a_decade' in vars()\n          True\n          \"\"\",\n          'hidden': False,\n          'locked': False\n        },\n        {\n          'code': r\"\"\"\n          >>> # It looks like you didn't change the cell to define;\n          >>> # seconds_in_a_decade appropriately.  It should be a number,;\n          >>> # computed using Python's arithmetic.  For example, this is;\n          >>> # almost right:;\n          >>> #   seconds_in_a_decade = 10*365*24*60*60;\n          >>> seconds_in_a_decade != ...\n          True\n          \"\"\",\n          'hidden': False,\n          'locked': False\n        },\n        {\n          'code': r\"\"\"\n          >>> # It looks like you didn't account for leap years.;\n          >>> # There were 2 leap years and 8 non-leap years in this period.;\n          >>> # Leap years have 366 days instead of 365.;\n          >>> seconds_in_a_decade != 315360000\n          True\n          \"\"\",\n          'hidden': False,\n          'locked': False\n        },\n        {\n          'code': r\"\"\"\n          >>> seconds_in_a_decade == 315532800\n          True\n          \"\"\",\n          'hidden': False,\n          'locked': False\n        }\n      ],\n      'scored': True,\n      'setup': '',\n      'teardown': '',\n      'type': 'doctest'\n    }\n  ]\n}\n",
    "id": "a9aa622109014503967369f29c0cefa9",
    "idx": 49,
    "time": "2021-02-11T01:43:38.526Z",
    "type": "execution"
   },
   {
    "id": "a9aa622109014503967369f29c0cefa9",
    "time": "2021-02-11T01:43:38.617Z",
    "type": "completion"
   },
   {
    "code": "**SOLUTION:** ",
    "id": "a9aa622109014503967369f29c0cefa9",
    "idx": 49,
    "time": "2021-02-11T01:44:09.329Z",
    "type": "execution"
   },
   {
    "id": "a9aa622109014503967369f29c0cefa9",
    "time": "2021-02-11T01:44:09.923Z",
    "type": "completion"
   },
   {
    "code": "```\nBEGIN ASSIGNMENT\ngenerate: true \nfiles:\n    - numberline_0.png\n    - numberline_1.png\n    - map.jpg\n    - METADATA\n    - Makefile\n    - error.jpg\n\n\n\n\n\n\n```",
    "id": "7006ecb4649f493b838ebfe7516ab1d3",
    "idx": 0,
    "time": "2021-02-13T03:00:02.705Z",
    "type": "execution"
   },
   {
    "id": "7006ecb4649f493b838ebfe7516ab1d3",
    "time": "2021-02-13T03:00:02.772Z",
    "type": "completion"
   },
   {
    "code": "# Change the next line \n# so that it computes the number of seconds in a decade \n# and assigns that number the name, seconds_in_a_decade.\n\nseconds_in_a_decade = 10*365*24*60*60 #SOLUTION\n\n# We've put this line in this cell \n# so that it will print the value you've given to seconds_in_a_decade when you run it.  \n# You don't need to change this.\nseconds_in_a_decade",
    "id": "89b470bad01647d8918d6997c82e6d9a",
    "idx": 49,
    "time": "2021-02-13T03:22:20.986Z",
    "type": "execution"
   },
   {
    "id": "89b470bad01647d8918d6997c82e6d9a",
    "time": "2021-02-13T03:22:21.064Z",
    "type": "completion"
   },
   {
    "code": "#TEST\n\ntype(seconds_in_a_decade) == int",
    "id": "5e43b3f3e6504ec991a03861baec3e61",
    "idx": 50,
    "time": "2021-02-13T03:22:25.275Z",
    "type": "execution"
   },
   {
    "id": "5e43b3f3e6504ec991a03861baec3e61",
    "time": "2021-02-13T03:22:25.471Z",
    "type": "completion"
   },
   {
    "code": "# HIDDEN TEST\nseconds_in_a_decade == 10*365*24*60*60 ",
    "id": "4378207dbc1845868a103c9f831a4c48",
    "idx": 51,
    "time": "2021-02-13T03:22:26.507Z",
    "type": "execution"
   },
   {
    "id": "4378207dbc1845868a103c9f831a4c48",
    "time": "2021-02-13T03:22:26.596Z",
    "type": "completion"
   },
   {
    "code": "#TEST\n#It looks like you didn't give anything the name\n# seconds_in_a_decade. Maybe there's a typo, or maybe you \n# just need to run the cell below Question 3.2 where you defined \n# seconds_in_a_decade. Click that cell and then click the \"run\n# cell\" button in the menu bar above.)\n'seconds_in_a_decade' in vars()",
    "id": "67abefcf8978482c82d6c9fa44c20e32",
    "idx": 50,
    "time": "2021-02-16T01:43:33.033Z",
    "type": "execution"
   },
   {
    "id": "67abefcf8978482c82d6c9fa44c20e32",
    "time": "2021-02-16T01:43:33.133Z",
    "type": "completion"
   },
   {
    "code": "print(\"Hello, World!\")",
    "id": "c23a746883c946858e980e1d3f703da7",
    "idx": 5,
    "time": "2021-02-16T01:43:38.274Z",
    "type": "execution"
   },
   {
    "code": "print(\"\\N{WAVING HAND SIGN}, \\N{EARTH GLOBE ASIA-AUSTRALIA}!\")",
    "id": "f90a294d0ce243f18872944ed0f92358",
    "idx": 7,
    "time": "2021-02-16T01:43:38.276Z",
    "type": "execution"
   },
   {
    "code": "print(\"First this line is printed,\")\nprint(\"and then this one.\")",
    "id": "abf75c0f57c3428b8d3c4280ab200ea8",
    "idx": 9,
    "time": "2021-02-16T01:43:38.279Z",
    "type": "execution"
   },
   {
    "code": "print(\"This line is missing something.\"",
    "id": "74c4041e94004370941dec803cfff7b3",
    "idx": 13,
    "time": "2021-02-16T01:43:38.282Z",
    "type": "execution"
   },
   {
    "code": "print(\"This line is missing something.\")",
    "id": "bdf87a8f42924b8b8e1bb55d47f63576",
    "idx": 14,
    "time": "2021-02-16T01:43:38.284Z",
    "type": "execution"
   },
   {
    "code": "# Don't change this cell; just run it. \n# The result will give you directions about how to log in to the submission system, called OK.\n# Once you're logged in, you can run this cell again, \n# but it won't ask you who you are because it remembers you. \n# However, you will need to log in once per assignment.\n# When you log-in please hit return (not shift + return) after typing in your email\n\nimport otter\ngrader = otter.Notebook()",
    "id": "93d4d2d54c9a462683fdd2de8f902cbf",
    "idx": 19,
    "time": "2021-02-16T01:43:38.287Z",
    "type": "execution"
   },
   {
    "code": "3.2500",
    "id": "5b642c396443485c8890ec7e5f215d18",
    "idx": 23,
    "time": "2021-02-16T01:43:38.290Z",
    "type": "execution"
   },
   {
    "code": "print(2)\n3\n4",
    "id": "5a83d039056846b380a3656ddd05db26",
    "idx": 25,
    "time": "2021-02-16T01:43:38.293Z",
    "type": "execution"
   },
   {
    "code": "3.25 - 1.5",
    "id": "d567485c594b43e29d5b47e5782f5c22",
    "idx": 28,
    "time": "2021-02-16T01:43:38.295Z",
    "type": "execution"
   },
   {
    "code": "3+6*5-6*3**2*2**3/4*7",
    "id": "19078c51a0934b6a83afb321196c48e9",
    "idx": 30,
    "time": "2021-02-16T01:43:38.297Z",
    "type": "execution"
   },
   {
    "code": "4+(6*5-(6*3))**2*((2**3)/4*7)",
    "id": "b69a27290bbd43ffa25338e54d792a3f",
    "idx": 31,
    "time": "2021-02-16T01:43:38.299Z",
    "type": "execution"
   },
   {
    "code": "...",
    "id": "a4f7d7f89d2c49149a000cd92cf8d846",
    "idx": 33,
    "time": "2021-02-16T01:43:38.301Z",
    "type": "execution"
   },
   {
    "code": "ten = 3 * 2 + 4",
    "id": "5da868c0070e415f8b8787e8c9e13cce",
    "idx": 35,
    "time": "2021-02-16T01:43:38.303Z",
    "type": "execution"
   },
   {
    "code": "ten",
    "id": "ad4e6650205349c98c1e280eead52bcd",
    "idx": 37,
    "time": "2021-02-16T01:43:38.304Z",
    "type": "execution"
   },
   {
    "code": "...",
    "id": "d0e044651d724d518bbad71d74c267e7",
    "idx": 39,
    "time": "2021-02-16T01:43:38.306Z",
    "type": "execution"
   },
   {
    "code": "close_to_pi = 355/113\nclose_to_pi",
    "id": "423c084b2a4c4e64976f516181585fe2",
    "idx": 41,
    "time": "2021-02-16T01:43:38.308Z",
    "type": "execution"
   },
   {
    "code": "semimonthly_salary = 841.25\nmonthly_salary = 2 * semimonthly_salary\nnumber_of_months_in_a_year = 12\nyearly_salary = number_of_months_in_a_year * monthly_salary\nyearly_salary",
    "id": "aeb99b6345fd459abb0f350f2a2e6151",
    "idx": 43,
    "time": "2021-02-16T01:43:38.310Z",
    "type": "execution"
   },
   {
    "code": "a = 841.25\nb = 2 * a\nc = 12\nd = c * b\nd",
    "id": "96ef56e5486d4a3484cd1ba945da07a1",
    "idx": 45,
    "time": "2021-02-16T01:43:38.312Z",
    "type": "execution"
   },
   {
    "code": "# Change the next line \n# so that it computes the number of seconds in a decade \n# and assigns that number the name, seconds_in_a_decade.\n\nseconds_in_a_decade = 10*365*24*60*60 #SOLUTION\n\n# We've put this line in this cell \n# so that it will print the value you've given to seconds_in_a_decade when you run it.  \n# You don't need to change this.\nseconds_in_a_decade",
    "id": "bb249843126346cf89d54dcb2b580763",
    "idx": 49,
    "time": "2021-02-16T01:43:38.314Z",
    "type": "execution"
   },
   {
    "id": "c23a746883c946858e980e1d3f703da7",
    "time": "2021-02-16T01:43:38.445Z",
    "type": "completion"
   },
   {
    "id": "f90a294d0ce243f18872944ed0f92358",
    "time": "2021-02-16T01:43:38.512Z",
    "type": "completion"
   },
   {
    "id": "abf75c0f57c3428b8d3c4280ab200ea8",
    "time": "2021-02-16T01:43:38.518Z",
    "type": "completion"
   },
   {
    "id": "74c4041e94004370941dec803cfff7b3",
    "time": "2021-02-16T01:43:38.547Z",
    "type": "completion"
   },
   {
    "id": "bdf87a8f42924b8b8e1bb55d47f63576",
    "time": "2021-02-16T01:43:38.555Z",
    "type": "completion"
   },
   {
    "id": "93d4d2d54c9a462683fdd2de8f902cbf",
    "time": "2021-02-16T01:43:38.556Z",
    "type": "completion"
   },
   {
    "id": "5b642c396443485c8890ec7e5f215d18",
    "time": "2021-02-16T01:43:38.559Z",
    "type": "completion"
   },
   {
    "id": "5a83d039056846b380a3656ddd05db26",
    "time": "2021-02-16T01:43:38.594Z",
    "type": "completion"
   },
   {
    "id": "d567485c594b43e29d5b47e5782f5c22",
    "time": "2021-02-16T01:43:38.595Z",
    "type": "completion"
   },
   {
    "id": "19078c51a0934b6a83afb321196c48e9",
    "time": "2021-02-16T01:43:38.595Z",
    "type": "completion"
   },
   {
    "id": "b69a27290bbd43ffa25338e54d792a3f",
    "time": "2021-02-16T01:43:38.596Z",
    "type": "completion"
   },
   {
    "id": "a4f7d7f89d2c49149a000cd92cf8d846",
    "time": "2021-02-16T01:43:38.641Z",
    "type": "completion"
   },
   {
    "id": "5da868c0070e415f8b8787e8c9e13cce",
    "time": "2021-02-16T01:43:38.676Z",
    "type": "completion"
   },
   {
    "id": "ad4e6650205349c98c1e280eead52bcd",
    "time": "2021-02-16T01:43:38.908Z",
    "type": "completion"
   },
   {
    "id": "d0e044651d724d518bbad71d74c267e7",
    "time": "2021-02-16T01:43:38.911Z",
    "type": "completion"
   },
   {
    "id": "423c084b2a4c4e64976f516181585fe2",
    "time": "2021-02-16T01:43:38.980Z",
    "type": "completion"
   },
   {
    "id": "aeb99b6345fd459abb0f350f2a2e6151",
    "time": "2021-02-16T01:43:38.983Z",
    "type": "completion"
   },
   {
    "id": "96ef56e5486d4a3484cd1ba945da07a1",
    "time": "2021-02-16T01:43:38.988Z",
    "type": "completion"
   },
   {
    "id": "bb249843126346cf89d54dcb2b580763",
    "time": "2021-02-16T01:43:39.033Z",
    "type": "completion"
   },
   {
    "code": "#TEST\n#It looks like you didn't give anything the name\n# seconds_in_a_decade. Maybe there's a typo, or maybe you \n# just need to run the cell below Question 3.2 where you defined \n# seconds_in_a_decade. Click that cell and then click the \"run\n# cell\" button in the menu bar above.)\n'seconds_in_a_decade' in vars()",
    "id": "67abefcf8978482c82d6c9fa44c20e32",
    "idx": 50,
    "time": "2021-02-16T01:43:41.537Z",
    "type": "execution"
   },
   {
    "id": "67abefcf8978482c82d6c9fa44c20e32",
    "time": "2021-02-16T01:43:41.603Z",
    "type": "completion"
   },
   {
    "code": "# TEST\n# It looks like you didn't account for leap years.\n# There were 2 leap years and 8 non-leap years in this period.\n# Leap years have 366 days instead of 365.\nseconds_in_a_decade != 315360000",
    "id": "bab339b50c6244c4836128a198edc179",
    "idx": 52,
    "time": "2021-02-16T01:48:06.819Z",
    "type": "execution"
   },
   {
    "id": "bab339b50c6244c4836128a198edc179",
    "time": "2021-02-16T01:48:07.072Z",
    "type": "completion"
   },
   {
    "code": "# TEST\n# It looks like you didn't change the cell to define\n# seconds_in_a_decade appropriately.  It should be a number,\n# computed using Python's arithmetic.  For example, this is\n# almost right:\n#   seconds_in_a_decade = 10*365*24*60*60\nseconds_in_a_decade != ...",
    "id": "e7f4344122c244fc85b6c93122aa3308",
    "idx": 51,
    "time": "2021-02-16T01:48:10.833Z",
    "type": "execution"
   },
   {
    "id": "e7f4344122c244fc85b6c93122aa3308",
    "time": "2021-02-16T01:48:10.904Z",
    "type": "completion"
   },
   {
    "code": "# TEST\n# It looks like you didn't account for leap years.\n# There were 2 leap years and 8 non-leap years in this period.\n# Leap years have 366 days instead of 365.\nseconds_in_a_decade != 315360000",
    "id": "bab339b50c6244c4836128a198edc179",
    "idx": 52,
    "time": "2021-02-16T01:48:11.931Z",
    "type": "execution"
   },
   {
    "id": "bab339b50c6244c4836128a198edc179",
    "time": "2021-02-16T01:48:12.000Z",
    "type": "completion"
   },
   {
    "code": "# Change the next line \n# so that it computes the number of seconds in a decade \n# and assigns that number the name, seconds_in_a_decade.\n\nseconds_in_a_decade = 10*365*24*60*60 #SOLUTION\n\n# We've put this line in this cell \n# so that it will print the value you've given to seconds_in_a_decade when you run it.  \n# You don't need to change this.\nseconds_in_a_decade",
    "id": "bb249843126346cf89d54dcb2b580763",
    "idx": 49,
    "time": "2021-02-16T01:48:21.663Z",
    "type": "execution"
   },
   {
    "id": "bb249843126346cf89d54dcb2b580763",
    "time": "2021-02-16T01:48:21.745Z",
    "type": "completion"
   },
   {
    "code": "# TEST\n#It looks like you didn't give anything the name\n# seconds_in_a_decade. Maybe there's a typo, or maybe you \n# just need to run the cell below Question 3.2 where you defined \n# seconds_in_a_decade. Click that cell and then click the \"run\n# cell\" button in the menu bar above.)\n'seconds_in_a_decade' in vars()",
    "id": "67abefcf8978482c82d6c9fa44c20e32",
    "idx": 50,
    "time": "2021-02-16T01:48:22.303Z",
    "type": "execution"
   },
   {
    "id": "67abefcf8978482c82d6c9fa44c20e32",
    "time": "2021-02-16T01:48:22.371Z",
    "type": "completion"
   },
   {
    "code": "# TEST\n# It looks like you didn't change the cell to define\n# seconds_in_a_decade appropriately.  It should be a number,\n# computed using Python's arithmetic.  For example, this is\n# almost right:\n#   seconds_in_a_decade = 10*365*24*60*60\nseconds_in_a_decade != ...",
    "id": "e7f4344122c244fc85b6c93122aa3308",
    "idx": 51,
    "time": "2021-02-16T01:48:22.997Z",
    "type": "execution"
   },
   {
    "id": "e7f4344122c244fc85b6c93122aa3308",
    "time": "2021-02-16T01:48:23.059Z",
    "type": "completion"
   },
   {
    "code": "# TEST\n# It looks like you didn't account for leap years.\n# There were 2 leap years and 8 non-leap years in this period.\n# Leap years have 366 days instead of 365.\nseconds_in_a_decade != 315360000",
    "id": "bab339b50c6244c4836128a198edc179",
    "idx": 52,
    "time": "2021-02-16T01:48:24.480Z",
    "type": "execution"
   },
   {
    "id": "bab339b50c6244c4836128a198edc179",
    "time": "2021-02-16T01:48:24.550Z",
    "type": "completion"
   },
   {
    "code": "# Change the next line \n# so that it computes the number of seconds in a decade \n# and assigns that number the name, seconds_in_a_decade.\n\nseconds_in_a_decade = (365*8 + 366*2) * 24 * 60 * 60 #SOLUTION\n\n# We've put this line in this cell \n# so that it will print the value you've given to seconds_in_a_decade when you run it.  \n# You don't need to change this.\nseconds_in_a_decade",
    "id": "bb249843126346cf89d54dcb2b580763",
    "idx": 49,
    "time": "2021-02-16T01:50:04.459Z",
    "type": "execution"
   },
   {
    "id": "bb249843126346cf89d54dcb2b580763",
    "time": "2021-02-16T01:50:04.534Z",
    "type": "completion"
   },
   {
    "code": "# Change the next line \n# so that it computes the number of seconds in a decade \n# and assigns that number the name, seconds_in_a_decade.\n\nseconds_in_a_decade = (365*8 + 366*2) * 24 * 60 * 60 #SOLUTION\n\n# We've put this line in this cell \n# so that it will print the value you've given to seconds_in_a_decade when you run it.  \n# You don't need to change this.\nseconds_in_a_decade",
    "id": "bb249843126346cf89d54dcb2b580763",
    "idx": 49,
    "time": "2021-02-16T01:50:10.643Z",
    "type": "execution"
   },
   {
    "id": "bb249843126346cf89d54dcb2b580763",
    "time": "2021-02-16T01:50:10.711Z",
    "type": "completion"
   },
   {
    "code": "# TEST\n#It looks like you didn't give anything the name\n# seconds_in_a_decade. Maybe there's a typo, or maybe you \n# just need to run the cell below Question 3.2 where you defined \n# seconds_in_a_decade. Click that cell and then click the \"run\n# cell\" button in the menu bar above.)\n'seconds_in_a_decade' in vars()",
    "id": "67abefcf8978482c82d6c9fa44c20e32",
    "idx": 50,
    "time": "2021-02-16T01:50:11.299Z",
    "type": "execution"
   },
   {
    "id": "67abefcf8978482c82d6c9fa44c20e32",
    "time": "2021-02-16T01:50:11.414Z",
    "type": "completion"
   },
   {
    "code": "# TEST\n# It looks like you didn't change the cell to define\n# seconds_in_a_decade appropriately.  It should be a number,\n# computed using Python's arithmetic.  For example, this is\n# almost right:\n#   seconds_in_a_decade = 10*365*24*60*60\nseconds_in_a_decade != ...",
    "id": "e7f4344122c244fc85b6c93122aa3308",
    "idx": 51,
    "time": "2021-02-16T01:50:11.959Z",
    "type": "execution"
   },
   {
    "id": "e7f4344122c244fc85b6c93122aa3308",
    "time": "2021-02-16T01:50:12.030Z",
    "type": "completion"
   },
   {
    "code": "# Change the next line \n# so that it computes the number of seconds in a decade \n# and assigns that number the name, seconds_in_a_decade.\n\nseconds_in_a_decade = (365*8 + 366*2) * 24 * 60 * 60 #SOLUTION\n\n# We've put this line in this cell \n# so that it will print the value you've given to seconds_in_a_decade when you run it.  \n# You don't need to change this.\nseconds_in_a_decade",
    "id": "bb249843126346cf89d54dcb2b580763",
    "idx": 49,
    "time": "2021-02-16T01:50:18.996Z",
    "type": "execution"
   },
   {
    "id": "bb249843126346cf89d54dcb2b580763",
    "time": "2021-02-16T01:50:19.083Z",
    "type": "completion"
   },
   {
    "code": "# TEST\n#It looks like you didn't give anything the name\n# seconds_in_a_decade. Maybe there's a typo, or maybe you \n# just need to run the cell below Question 3.2 where you defined \n# seconds_in_a_decade. Click that cell and then click the \"run\n# cell\" button in the menu bar above.)\n'seconds_in_a_decade' in vars()",
    "id": "67abefcf8978482c82d6c9fa44c20e32",
    "idx": 50,
    "time": "2021-02-16T01:50:19.692Z",
    "type": "execution"
   },
   {
    "id": "67abefcf8978482c82d6c9fa44c20e32",
    "time": "2021-02-16T01:50:19.789Z",
    "type": "completion"
   },
   {
    "code": "# TEST\n# It looks like you didn't change the cell to define\n# seconds_in_a_decade appropriately.  It should be a number,\n# computed using Python's arithmetic.  For example, this is\n# almost right:\n#   seconds_in_a_decade = 10*365*24*60*60\nseconds_in_a_decade != ...",
    "id": "e7f4344122c244fc85b6c93122aa3308",
    "idx": 51,
    "time": "2021-02-16T01:50:21.182Z",
    "type": "execution"
   },
   {
    "id": "e7f4344122c244fc85b6c93122aa3308",
    "time": "2021-02-16T01:50:21.252Z",
    "type": "completion"
   },
   {
    "code": "# TEST\n# It looks like you didn't account for leap years.\n# There were 2 leap years and 8 non-leap years in this period.\n# Leap years have 366 days instead of 365.\nseconds_in_a_decade != 315360000",
    "id": "bab339b50c6244c4836128a198edc179",
    "idx": 52,
    "time": "2021-02-16T01:50:22.970Z",
    "type": "execution"
   },
   {
    "id": "bab339b50c6244c4836128a198edc179",
    "time": "2021-02-16T01:50:23.036Z",
    "type": "completion"
   },
   {
    "code": "# HIDDEN TEST\nseconds_in_a_decade == 315532800",
    "id": "cfffea330ed24bba92736fa173e6b868",
    "idx": 53,
    "time": "2021-02-16T01:50:47.376Z",
    "type": "execution"
   },
   {
    "id": "cfffea330ed24bba92736fa173e6b868",
    "time": "2021-02-16T01:50:47.436Z",
    "type": "completion"
   },
   {
    "code": "# TEST\n#It looks like you didn't give anything the name\n# seconds_in_a_decade. Maybe there's a typo, or maybe you \n# just need to run the cell below Question 3.2 where you defined \n# seconds_in_a_decade. Click that cell and then click the \"run\n# cell\" button in the menu bar above.)\n'seconds_in_a_decade' in vars()",
    "id": "67abefcf8978482c82d6c9fa44c20e32",
    "idx": 50,
    "time": "2021-02-16T01:50:51.969Z",
    "type": "execution"
   },
   {
    "id": "67abefcf8978482c82d6c9fa44c20e32",
    "time": "2021-02-16T01:50:52.059Z",
    "type": "completion"
   },
   {
    "code": "# TEST\n# It looks like you didn't change the cell to define\n# seconds_in_a_decade appropriately.  It should be a number,\n# computed using Python's arithmetic.  For example, this is\n# almost right:\n#   seconds_in_a_decade = 10*365*24*60*60\nseconds_in_a_decade != ...",
    "id": "e7f4344122c244fc85b6c93122aa3308",
    "idx": 51,
    "time": "2021-02-16T01:50:52.545Z",
    "type": "execution"
   },
   {
    "id": "e7f4344122c244fc85b6c93122aa3308",
    "time": "2021-02-16T01:50:52.644Z",
    "type": "completion"
   },
   {
    "code": "# TEST\n# It looks like you didn't account for leap years.\n# There were 2 leap years and 8 non-leap years in this period.\n# Leap years have 366 days instead of 365.\nseconds_in_a_decade != 315360000",
    "id": "bab339b50c6244c4836128a198edc179",
    "idx": 52,
    "time": "2021-02-16T01:50:53.156Z",
    "type": "execution"
   },
   {
    "id": "bab339b50c6244c4836128a198edc179",
    "time": "2021-02-16T01:50:53.217Z",
    "type": "completion"
   },
   {
    "code": "# HIDDEN TEST\nseconds_in_a_decade == 315532800",
    "id": "cfffea330ed24bba92736fa173e6b868",
    "idx": 53,
    "time": "2021-02-16T01:50:53.854Z",
    "type": "execution"
   },
   {
    "id": "cfffea330ed24bba92736fa173e6b868",
    "time": "2021-02-16T01:50:54.027Z",
    "type": "completion"
   },
   {
    "code": "# t, the duration of the fall in the experiment, in seconds.\n# Fill this in.\ntime = 1.2 #SOLUTION\n\n# The estimated distance the hammer actually fell, in meters.\n# Fill this in.\nestimated_distance_m = 1.13 #SOLUTION",
    "id": "a3eef904c6b548f78fda93b2b4be258b",
    "idx": 60,
    "time": "2021-02-16T04:00:56.276Z",
    "type": "execution"
   },
   {
    "code": "#TEST\n# Fill in the row\n#   time = ...\n# with something like:\n#   time = 4.567\n# (except with the right number).\ntime != ...",
    "id": "231c002d34f8480ba5d9d547812fe69e",
    "idx": 61,
    "time": "2021-02-16T04:00:56.794Z",
    "type": "execution"
   },
   {
    "id": "a3eef904c6b548f78fda93b2b4be258b",
    "time": "2021-02-16T04:00:57.432Z",
    "type": "completion"
   },
   {
    "id": "231c002d34f8480ba5d9d547812fe69e",
    "time": "2021-02-16T04:00:57.438Z",
    "type": "completion"
   },
   {
    "code": "# TEST\n# Read the text above the question to see what\n# time should be.\nround(time, 5)",
    "id": "1f656a1a5c0245e7a7b9d5bc0eb90658",
    "idx": 62,
    "time": "2021-02-16T04:01:46.798Z",
    "type": "execution"
   },
   {
    "id": "1f656a1a5c0245e7a7b9d5bc0eb90658",
    "time": "2021-02-16T04:01:46.915Z",
    "type": "completion"
   },
   {
    "code": "# TEST\n# Fill in the row\n#   estimated_distance_m = ...\n# with something like:\n#   estimated_distance_m = 4.567\n# (except with the right number).\nestimated_distance_m != ...",
    "id": "0d4f1f5505d44f8486a411aac7f91724",
    "idx": 63,
    "time": "2021-02-16T04:04:29.874Z",
    "type": "execution"
   },
   {
    "id": "0d4f1f5505d44f8486a411aac7f91724",
    "time": "2021-02-16T04:04:30.025Z",
    "type": "completion"
   },
   {
    "code": "# TEST\n# Note that the units are meters, but the text used\n# centimeters.\nestimated_distance_m != 113",
    "id": "87e9ec46848644e4bc6e0cdd7bc9444e",
    "idx": 64,
    "time": "2021-02-16T04:05:03.667Z",
    "type": "execution"
   },
   {
    "id": "87e9ec46848644e4bc6e0cdd7bc9444e",
    "time": "2021-02-16T04:05:03.731Z",
    "type": "completion"
   },
   {
    "code": "# TEST\n# Read the text above the question to see what\n# estimated_distance_m should be.\nround(estimated_distance_m, 5)",
    "id": "e708d0dc112a44e4a50285132f51fa64",
    "idx": 65,
    "time": "2021-02-16T04:06:14.105Z",
    "type": "execution"
   },
   {
    "id": "e708d0dc112a44e4a50285132f51fa64",
    "time": "2021-02-16T04:06:14.187Z",
    "type": "completion"
   },
   {
    "code": "# First, we've written down the values of the 3 universal constants \n# that show up in Newton's formula.\n\n# G, the universal constant measuring the strength of gravity.\ngravity_constant = 6.674 * 10**-11 \n\n# M, the moon's mass, in kilograms.\nmoon_mass_kg = 7.34767309 * 10**22 \n\n# R, the radius of the moon, in meters.\nmoon_radius_m = 1.737 * 10**6 \n\n# The distance the hammer should have fallen \n# over the duration of the fall, in meters, \n# according to Newton's law of gravity.  \n# The text above describes the formula\n# for this distance given by Newton's law.\n# **YOU FILL THIS PART IN.**\npredicted_distance_m = (1/2) * gravity_constant * (moon_mass_kg / moon_radius_m**2)\n* time**2 #SOLUTION\n\n# Here we've computed the difference \n# between the predicted fall distance and the distance we actually measured.\n# If you've filled in the above code, this should just work.\ndifference = predicted_distance_m - estimated_distance_m\ndifference",
    "id": "c752c0a3abeb4efb9e912c867f84813c",
    "idx": 69,
    "time": "2021-02-16T04:13:20.807Z",
    "type": "execution"
   },
   {
    "id": "c752c0a3abeb4efb9e912c867f84813c",
    "time": "2021-02-16T04:13:20.930Z",
    "type": "completion"
   },
   {
    "code": "# First, we've written down the values of the 3 universal constants \n# that show up in Newton's formula.\n\n# G, the universal constant measuring the strength of gravity.\ngravity_constant = 6.674 * 10**-11 \n\n# M, the moon's mass, in kilograms.\nmoon_mass_kg = 7.34767309 * 10**22 \n\n# R, the radius of the moon, in meters.\nmoon_radius_m = 1.737 * 10**6 \n\n# The distance the hammer should have fallen \n# over the duration of the fall, in meters, \n# according to Newton's law of gravity.  \n# The text above describes the formula\n# for this distance given by Newton's law.\n# **YOU FILL THIS PART IN.**\npredicted_distance_m = (1/2) * gravity_constant * (moon_mass_kg / moon_radius_m**2) * time**2 #SOLUTION\n\n# Here we've computed the difference \n# between the predicted fall distance and the distance we actually measured.\n# If you've filled in the above code, this should just work.\ndifference = predicted_distance_m - estimated_distance_m\ndifference",
    "id": "c752c0a3abeb4efb9e912c867f84813c",
    "idx": 69,
    "time": "2021-02-16T04:13:31.034Z",
    "type": "execution"
   },
   {
    "id": "c752c0a3abeb4efb9e912c867f84813c",
    "time": "2021-02-16T04:13:31.671Z",
    "type": "completion"
   },
   {
    "code": "# TEST\n# Compute predicted_distance_m using the formula in the text\n# above.  Hint: it should start with something like this:\n#   predicted_distance_m = (1/2) * gravity_constant ...\nround(predicted_distance_m, 5)",
    "id": "d9fe9f8487e64ce681f9652b82b31f0a",
    "idx": 71,
    "time": "2021-02-16T04:15:06.108Z",
    "type": "execution"
   },
   {
    "id": "d9fe9f8487e64ce681f9652b82b31f0a",
    "time": "2021-02-16T04:15:06.179Z",
    "type": "completion"
   },
   {
    "code": "# TEST \n# Fill in the line that currently says\n#   predicted_distance_m = ...\n# in the cell above.\npredicted_distance_m != ...",
    "id": "5f9f83fa5d8f4da8872decbbb42cfb74",
    "idx": 70,
    "time": "2021-02-16T04:15:09.336Z",
    "type": "execution"
   },
   {
    "id": "5f9f83fa5d8f4da8872decbbb42cfb74",
    "time": "2021-02-16T04:15:09.421Z",
    "type": "completion"
   },
   {
    "code": "# HIDDEN TEST\ndifference == 0.04022",
    "id": "3a6e7c842301403f911a115607264d00",
    "idx": 73,
    "time": "2021-02-16T04:17:24.998Z",
    "type": "execution"
   },
   {
    "id": "3a6e7c842301403f911a115607264d00",
    "time": "2021-02-16T04:17:25.131Z",
    "type": "completion"
   },
   {
    "code": "# TEST \nround(difference, 5) ",
    "id": "d749f7858c63400b8734201fc6888bd0",
    "idx": 72,
    "time": "2021-02-16T04:17:26.989Z",
    "type": "execution"
   },
   {
    "id": "d749f7858c63400b8734201fc6888bd0",
    "time": "2021-02-16T04:17:27.061Z",
    "type": "completion"
   },
   {
    "code": "# HIDDEN TEST\nround(difference, 5)  == 0.04022",
    "id": "3a6e7c842301403f911a115607264d00",
    "idx": 73,
    "time": "2021-02-16T04:17:40.194Z",
    "type": "execution"
   },
   {
    "id": "3a6e7c842301403f911a115607264d00",
    "time": "2021-02-16T04:17:40.260Z",
    "type": "completion"
   },
   {
    "code": "# First, we've written down the values of the 3 universal constants \n# that show up in Newton's formula.\n\n# G, the universal constant measuring the strength of gravity.\ngravity_constant = 6.674 * 10**-11 \n\n# M, the moon's mass, in kilograms.\nmoon_mass_kg = 7.34767309 * 10**22 \n\n# R, the radius of the moon, in meters.\nmoon_radius_m = 1.737 * 10**6 \n\n# The distance the hammer should have fallen \n# over the duration of the fall, in meters, \n# according to Newton's law of gravity.  \n# The text above describes the formula\n# for this distance given by Newton's law.\n# **YOU FILL THIS PART IN.**\npredicted_distance_m = (1/2) * gravity_constant * (moon_mass_kg / moon_radius_m**2) * time**2 #SOLUTION\n\n# Here we've computed the difference \n# between the predicted fall distance and the distance we actually measured.\n# If you've filled in the above code, this should just work.\ndifference = predicted_distance_m - estimated_distance_m\ndifference",
    "id": "c752c0a3abeb4efb9e912c867f84813c",
    "idx": 69,
    "time": "2021-02-16T04:17:44.540Z",
    "type": "execution"
   },
   {
    "id": "c752c0a3abeb4efb9e912c867f84813c",
    "time": "2021-02-16T04:17:44.650Z",
    "type": "completion"
   },
   {
    "code": "# TEST \n# Fill in the line that currently says\n#   predicted_distance_m = ...\n# in the cell above.\npredicted_distance_m != ...",
    "id": "5f9f83fa5d8f4da8872decbbb42cfb74",
    "idx": 70,
    "time": "2021-02-16T04:17:45.320Z",
    "type": "execution"
   },
   {
    "id": "5f9f83fa5d8f4da8872decbbb42cfb74",
    "time": "2021-02-16T04:17:45.381Z",
    "type": "completion"
   },
   {
    "code": "# TEST\n# Compute predicted_distance_m using the formula in the text\n# above.  Hint: it should start with something like this:\n#   predicted_distance_m = (1/2) * gravity_constant ...\nround(predicted_distance_m, 5)",
    "id": "d9fe9f8487e64ce681f9652b82b31f0a",
    "idx": 71,
    "time": "2021-02-16T04:17:46.192Z",
    "type": "execution"
   },
   {
    "id": "d9fe9f8487e64ce681f9652b82b31f0a",
    "time": "2021-02-16T04:17:46.272Z",
    "type": "completion"
   },
   {
    "code": "# TEST \nround(difference, 5) ",
    "id": "d749f7858c63400b8734201fc6888bd0",
    "idx": 72,
    "time": "2021-02-16T04:17:50.050Z",
    "type": "execution"
   },
   {
    "id": "d749f7858c63400b8734201fc6888bd0",
    "time": "2021-02-16T04:17:50.121Z",
    "type": "completion"
   },
   {
    "code": "# HIDDEN TEST\nround(difference, 5)  == 0.04022",
    "id": "3a6e7c842301403f911a115607264d00",
    "idx": 73,
    "time": "2021-02-16T04:17:52.443Z",
    "type": "execution"
   },
   {
    "id": "3a6e7c842301403f911a115607264d00",
    "time": "2021-02-16T04:17:52.527Z",
    "type": "completion"
   },
   {
    "code": "# Here's the number of streets away:\nnum_streets_away = abs(42-34)\n\n# Compute the number of avenues away in a similar way:\nnum_avenues_away = abs(7-10) #SOLUTION\n\nstreet_length_m = 80\navenue_length_m = 274\n\n# Now we compute the total distance Chunhua must walk.\nmanhattan_distance = street_length_m*num_streets_away + avenue_length_m*num_avenues_away\n\n# We've included this line so that you see the distance you've computed \n# when you run this cell.  \n# You don't need to change it, but you can if you want.\nmanhattan_distance",
    "id": "f5c4505a25c8467b8df1bf68e37251f5",
    "idx": 78,
    "time": "2021-02-16T04:20:08.311Z",
    "type": "execution"
   },
   {
    "id": "f5c4505a25c8467b8df1bf68e37251f5",
    "time": "2021-02-16T04:20:08.416Z",
    "type": "completion"
   },
   {
    "code": "#TEST\n# Fill in the line\n#   num_avenues_away = ...\n# in the cell above.\nnum_avenues_away != ...",
    "id": "0a8aa9768d774848a07ad0d92370ad33",
    "idx": 79,
    "time": "2021-02-16T04:20:47.425Z",
    "type": "execution"
   },
   {
    "id": "0a8aa9768d774848a07ad0d92370ad33",
    "time": "2021-02-16T04:20:47.499Z",
    "type": "completion"
   },
   {
    "code": "# TEST \n# Remember to compute the absolute value of 7-10.  Traveling \n# \"-3 blocks\" doesn't really make sense!\nnum_avenues_away != -3",
    "id": "79b1f36a050443718958938e7d7e2c47",
    "idx": 80,
    "time": "2021-02-16T04:21:29.463Z",
    "type": "execution"
   },
   {
    "id": "79b1f36a050443718958938e7d7e2c47",
    "time": "2021-02-16T04:21:29.529Z",
    "type": "completion"
   },
   {
    "code": "# HIDDEN TEST\nnum_avenues_away == 3",
    "id": "fc8838959c8b4dee9417dc930cb5a610",
    "idx": 81,
    "time": "2021-02-16T04:23:09.788Z",
    "type": "execution"
   },
   {
    "id": "fc8838959c8b4dee9417dc930cb5a610",
    "time": "2021-02-16T04:23:09.852Z",
    "type": "completion"
   },
   {
    "code": "# HIDDEN TEST \nmanhattan_distance == 1462",
    "id": "486b024a3f30427e8476e24b9c21f805",
    "idx": 82,
    "time": "2021-02-16T04:23:10.598Z",
    "type": "execution"
   },
   {
    "id": "486b024a3f30427e8476e24b9c21f805",
    "time": "2021-02-16T04:23:10.680Z",
    "type": "completion"
   },
   {
    "code": "# Replace the ... with an expression \n# to compute the absolute value \n# of the difference between Paola's height (1.76m) and the average human height.\npaola_distance_from_average_m = abs(1.76 - 1.688) # SOLUTION\n\n# Again, we've written this here \n# so that the distance you compute will get printed \n# when you run this cell.\npaola_distance_from_average_m",
    "id": "ba86699b1b904963951f81a83747c691",
    "idx": 89,
    "time": "2021-02-16T04:25:13.275Z",
    "type": "execution"
   },
   {
    "id": "ba86699b1b904963951f81a83747c691",
    "time": "2021-02-16T04:25:13.353Z",
    "type": "completion"
   },
   {
    "code": "# TEST\nround(paola_distance_from_average_m, 5) == 0.072",
    "id": "329e4cfb940b4265978ec5a0a8786bd9",
    "idx": 90,
    "time": "2021-02-16T04:25:24.015Z",
    "type": "execution"
   },
   {
    "id": "329e4cfb940b4265978ec5a0a8786bd9",
    "time": "2021-02-16T04:25:24.087Z",
    "type": "completion"
   },
   {
    "code": "# TEST\nround(paola_distance_from_average_m, 5)",
    "id": "329e4cfb940b4265978ec5a0a8786bd9",
    "idx": 90,
    "time": "2021-02-16T04:25:43.467Z",
    "type": "execution"
   },
   {
    "id": "329e4cfb940b4265978ec5a0a8786bd9",
    "time": "2021-02-16T04:25:43.545Z",
    "type": "completion"
   },
   {
    "code": "# HIDDEN TEST\nround(paola_distance_from_average_m, 5) == 0.072",
    "id": "935f16ed3a424d32835e05542670ec34",
    "idx": 91,
    "time": "2021-02-16T04:26:07.171Z",
    "type": "execution"
   },
   {
    "id": "935f16ed3a424d32835e05542670ec34",
    "time": "2021-02-16T04:26:07.265Z",
    "type": "completion"
   },
   {
    "code": "# The three players' heights, in meters:\nklay =  2.01 # Klay Thompson is 6'7\"\nsteph = 1.91 # Steph Curry is 6'3\"\ndangelo = 1.95 # D'Angelo Russell is 6'5\"\n             \n# We'd like to look at all 3 pairs of heights, \n# compute the absolute difference between each pair, \n# and then find the smallest of those 3 absolute differences.  \n# This is left to you!  \n# If you're stuck, try computing the value for each step of the process \n# (like the difference between Klay's heigh and Steph's height) \n# on a separate line and giving it a name (like klay_steph_height_diff)6\nmin_height_difference = min(abs(klay - steph), abs(klay-dangelo), abs(steph-dangelo) # SOLUTION",
    "id": "44f75413e616449786db37040c562b77",
    "idx": 97,
    "time": "2021-02-16T04:27:59.204Z",
    "type": "execution"
   },
   {
    "id": "44f75413e616449786db37040c562b77",
    "time": "2021-02-16T04:27:59.277Z",
    "type": "completion"
   },
   {
    "code": "# The three players' heights, in meters:\nklay =  2.01 # Klay Thompson is 6'7\"\nsteph = 1.91 # Steph Curry is 6'3\"\ndangelo = 1.95 # D'Angelo Russell is 6'5\"\n             \n# We'd like to look at all 3 pairs of heights, \n# compute the absolute difference between each pair, \n# and then find the smallest of those 3 absolute differences.  \n# This is left to you!  \n# If you're stuck, try computing the value for each step of the process \n# (like the difference between Klay's heigh and Steph's height) \n# on a separate line and giving it a name (like klay_steph_height_diff)6\nmin_height_difference = min(abs(klay - steph), abs(klay-dangelo), abs(steph-dangelo)) # SOLUTION",
    "id": "44f75413e616449786db37040c562b77",
    "idx": 97,
    "time": "2021-02-16T04:28:06.675Z",
    "type": "execution"
   },
   {
    "id": "44f75413e616449786db37040c562b77",
    "time": "2021-02-16T04:28:06.794Z",
    "type": "completion"
   },
   {
    "code": "# TEST\nround(min_height_difference, 5)",
    "id": "078d920b265645128de98392af2bcb6e",
    "idx": 98,
    "time": "2021-02-16T04:28:37.237Z",
    "type": "execution"
   },
   {
    "id": "078d920b265645128de98392af2bcb6e",
    "time": "2021-02-16T04:28:37.322Z",
    "type": "completion"
   },
   {
    "code": "# HIDDEN TEST\nround(min_height_difference, 5) == 0.04",
    "id": "0cd7d9cee23e46ec8dbce198c1c3c45d",
    "idx": 99,
    "time": "2021-02-16T04:28:38.707Z",
    "type": "execution"
   },
   {
    "id": "0cd7d9cee23e46ec8dbce198c1c3c45d",
    "time": "2021-02-16T04:28:38.769Z",
    "type": "completion"
   }
  ],
  "kernelspec": {
   "display_name": "Python 3",
   "language": "python",
   "name": "python3"
  },
  "language_info": {
   "codemirror_mode": {
    "name": "ipython",
    "version": 3
   },
   "file_extension": ".py",
   "mimetype": "text/x-python",
   "name": "python",
   "nbconvert_exporter": "python",
   "pygments_lexer": "ipython3",
   "version": "3.8.5"
  }
 },
 "nbformat": 4,
 "nbformat_minor": 2
}
