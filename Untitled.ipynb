{
 "cells": [
  {
   "cell_type": "markdown",
   "id": "797d88da-5e22-4f02-8549-21081a0f1594",
   "metadata": {},
   "source": [
    "# Clase 5\n",
    "\n",
    "**Primeros scripts**\n",
    "\n",
    "Vamos a definir en una celda tres variables, una que contenga mi nombre, otra que contenga mi edad y otra que muestre el porcentaje de la semana que utilizo para mi curso de programación"
   ]
  },
  {
   "cell_type": "code",
   "execution_count": 14,
   "id": "ef7a221e-0e6c-40c5-ac02-94187a42e2e2",
   "metadata": {},
   "outputs": [],
   "source": [
    "Nombre='Daniel Salgado'"
   ]
  },
  {
   "cell_type": "code",
   "execution_count": 15,
   "id": "656493b4-7821-4bd1-9311-bbfd1824b41b",
   "metadata": {},
   "outputs": [],
   "source": [
    "Edad= 16"
   ]
  },
  {
   "cell_type": "markdown",
   "id": "46bc426f-2473-4b42-9f1b-a2afcaacf5b9",
   "metadata": {},
   "source": [
    "Por_prog=(4+2)/(24*5)"
   ]
  },
  {
   "cell_type": "code",
   "execution_count": 24,
   "id": "0d185754-da14-4881-8412-2fdd3d427e08",
   "metadata": {},
   "outputs": [
    {
     "data": {
      "text/plain": [
       "0.05"
      ]
     },
     "execution_count": 24,
     "metadata": {},
     "output_type": "execute_result"
    }
   ],
   "source": [
    "Por_prog"
   ]
  },
  {
   "cell_type": "code",
   "execution_count": 25,
   "id": "b93f6211-09dc-47e5-9a79-11a8c6f5ecd3",
   "metadata": {},
   "outputs": [
    {
     "data": {
      "text/plain": [
       "'Mi nombre es Daniel Salgado, tengo 16 años y soy externadista'"
      ]
     },
     "execution_count": 25,
     "metadata": {},
     "output_type": "execute_result"
    }
   ],
   "source": [
    "texto1='Mi nombre es {}, tengo {} años y soy externadista'.format(Nombre,Edad)\n",
    "texto1"
   ]
  },
  {
   "cell_type": "code",
   "execution_count": 32,
   "id": "e6824ed2-db74-4031-886d-e6db4b139673",
   "metadata": {},
   "outputs": [
    {
     "data": {
      "text/plain": [
       "'Mi nombre es Daniel Salgado,tengo 16 años, soy externadista y dedico el 5.00% de mi semana a programación'"
      ]
     },
     "execution_count": 32,
     "metadata": {},
     "output_type": "execute_result"
    }
   ],
   "source": []
  },
  {
   "cell_type": "code",
   "execution_count": 36,
   "id": "c60f79b1-dfd2-478e-8240-59dd6441baa6",
   "metadata": {},
   "outputs": [
    {
     "name": "stdout",
     "output_type": "stream",
     "text": [
      "Nombre:                Daniel Salgado\n",
      "Edad:                            16\n"
     ]
    }
   ],
   "source": [
    "texto3='Nombre:{nombre:>30}\\nEdad:{edad:>30}'.format(nombre=Nombre,edad=Edad)\n",
    "print(texto3)"
   ]
  },
  {
   "cell_type": "code",
   "execution_count": 38,
   "id": "269ae672-0b82-4397-9904-3ef140e24dd3",
   "metadata": {},
   "outputs": [
    {
     "name": "stdout",
     "output_type": "stream",
     "text": [
      "Daniel Salgado                :Nombre\n",
      "16                            :Edad\n"
     ]
    }
   ],
   "source": [
    "texto3='{nombre:<30}:Nombre\\n{edad:<30}:Edad'.format(nombre=Nombre,edad=Edad)\n",
    "print(texto3)"
   ]
  },
  {
   "cell_type": "code",
   "execution_count": 40,
   "id": "02366ceb-3e83-4376-a98b-62985a7f5653",
   "metadata": {},
   "outputs": [
    {
     "name": "stdout",
     "output_type": "stream",
     "text": [
      "        Daniel Salgado        \n",
      "              16              \n"
     ]
    }
   ],
   "source": [
    "texto4='{nombre:^30}\\n{edad:^30}'.format(nombre=Nombre,edad=Edad)\n",
    "print(texto4)"
   ]
  },
  {
   "cell_type": "code",
   "execution_count": 48,
   "id": "814d1d27-de43-4a32-9ea8-964af9c7d3c8",
   "metadata": {},
   "outputs": [
    {
     "name": "stdout",
     "output_type": "stream",
     "text": [
      "El boleto para Bad bunny valió $22,000,000\n"
     ]
    }
   ],
   "source": [
    "texto5='El boleto para Bad bunny valió ${boleto:,}'.format(boleto=22000000)\n",
    "print(texto5)"
   ]
  },
  {
   "cell_type": "code",
   "execution_count": 52,
   "id": "fbda2797-3192-4219-b2f3-c53533539e22",
   "metadata": {},
   "outputs": [
    {
     "name": "stdout",
     "output_type": "stream",
     "text": [
      "En binario tengo 10000\n"
     ]
    }
   ],
   "source": [
    "texto6= 'En binario tengo {edad:b}'.format(edad=Edad)\n",
    "print(texto6)"
   ]
  },
  {
   "cell_type": "markdown",
   "id": "4f71bf0b-f23f-43ec-9398-e34a13f47a04",
   "metadata": {},
   "source": [
    "## Más métodos de cadenas de caractéres\n",
    "\n",
    "Veamos una lista de métodos e intentemos definir que hace cada una:"
   ]
  },
  {
   "cell_type": "code",
   "execution_count": 62,
   "id": "bdc1d804-da55-49db-b0b0-14790da76ff2",
   "metadata": {},
   "outputs": [
    {
     "name": "stdout",
     "output_type": "stream",
     "text": [
      "Hola\n"
     ]
    }
   ],
   "source": [
    "texto7='hola'.capitalize() #pone mayúscula inicial\n",
    "print(texto7)"
   ]
  },
  {
   "cell_type": "code",
   "execution_count": 63,
   "id": "e934577f-9d5a-4558-a2f2-2441bad180bc",
   "metadata": {},
   "outputs": [
    {
     "name": "stdout",
     "output_type": "stream",
     "text": [
      "en el monte de la china una china se perdio\n"
     ]
    }
   ],
   "source": [
    "texto8='En el Monte de la China una china se PerDio'.casefold()#Convierte todo en minuscula\n",
    "print(texto8)"
   ]
  },
  {
   "cell_type": "code",
   "execution_count": 64,
   "id": "23c59b13-0524-41d9-80cd-6f6c7cac8cb0",
   "metadata": {},
   "outputs": [
    {
     "name": "stdout",
     "output_type": "stream",
     "text": [
      "EN EL MONTE DE LA CHINA UNA CHINA SE PERDIO\n"
     ]
    }
   ],
   "source": [
    "texto9='En el Monte de la China una china se PerDio'.upper() #Vuelve todo mayúscula\n",
    "print(texto9)"
   ]
  },
  {
   "cell_type": "code",
   "execution_count": 65,
   "id": "5a6db927-acc8-4524-a52f-1133a9c896ab",
   "metadata": {},
   "outputs": [
    {
     "name": "stdout",
     "output_type": "stream",
     "text": [
      "en el monte de la china una china se perdio\n"
     ]
    }
   ],
   "source": [
    "texto10='En el Monte de la China una china se PerDio'.lower() #Convierte todo en minuscula\n",
    "print(texto10)"
   ]
  },
  {
   "cell_type": "code",
   "execution_count": 66,
   "id": "5d7f153c-52af-44ba-81e8-5afc674ae49f",
   "metadata": {},
   "outputs": [
    {
     "name": "stdout",
     "output_type": "stream",
     "text": [
      "En el Monte de lx-x Chinx-x unx-x chinx-x se PerDio\n"
     ]
    }
   ],
   "source": [
    "texto11='En el Monte de la China una china se PerDio'.replace('a','x-x') #Reemplaza la letra por la otra\n",
    "print(texto11)"
   ]
  },
  {
   "cell_type": "code",
   "execution_count": 61,
   "id": "d6fe28b9-2aa9-40f0-b8f3-8d82e8c40d17",
   "metadata": {},
   "outputs": [
    {
     "name": "stdout",
     "output_type": "stream",
     "text": [
      "eN EL mONTE DE LA cHINA UNA CHINA SE pERdIO\n"
     ]
    }
   ],
   "source": [
    "texto12='En el Monte de la China una china se PerDio'.swapcase()\n",
    "print(texto12)"
   ]
  },
  {
   "cell_type": "code",
   "execution_count": 73,
   "id": "d6b9a383-b31d-49e3-a85a-200f65fb8351",
   "metadata": {},
   "outputs": [
    {
     "name": "stdout",
     "output_type": "stream",
     "text": [
      "7\n"
     ]
    }
   ],
   "source": [
    "x1='''En sus redes sociales comentó que a los colombianos no les interesan las denuncias sino la relación.\n",
    "En días pasados, la excongresista Aida Merlano reveló en la Sala de Instrucción de la Corte Suprema de Justicia que miembros de la familia Char estarían implicados en  procesos de presunta venta y compra de votos en el Caribe colombiano.\n",
    "La diligencia, que Merlano realizó desde Venezuela de manera virtual acompañada de su abogado Miguel Ángel del Río, hace parte de una indagación preliminar que se le sigue al congresista Arturo Char por presunta compra de votos.\n",
    "En esta declaración, la excongresista entregó evidencias de lo que, en su criterio, relacionaría a la ‘casa Char’ con estos delitos.\n",
    "Entre los señalamientos, Merlano acusó al exalcalde de Barranquilla y actual precandidato presidencial, Álex Char, de haberle entregado 500 millones de pesos para su campaña y compartió fotografías y mensajes de WhatsApp, con los que la exrepresentante a la Cámara busca probar que tuvo una relación amorosa con el exmandatario.\n",
    "Ante estas declaraciones, su hija, la ‘influencer’ Aida Victoria Merlano comentó mediante sus historias de Instagram: “Colombia es un chiste que se cuenta solo. Mira, cuando mi mamá salió a hablar de todas esas cosas tan fuertes y tan delicadas yo dije ‘¡Dios mío! a mí en cualquier momento me van a pegar un tiro por ahí’, pero luego entendí que a la gente le importa más el chisme del romance que las denuncias que ella está haciendo”.\n",
    "(Siga leyendo: Paola Jara reveló cómo es su relación con la familia de Jessi Uribe)\n",
    "Mediante las redes sociales, como es de esperarse, las personas han hecho diferentes memes sobre esta relación de Merlano, quien hoy en día se encuentra prófuga de la justicia, y Alex Char.\n",
    "La revista Semana reveló imágenes de un chat de WhatsApp y una foto de Merlano y Char tomando vino en la playa. Las personas también centraron su atención en la infidelidad de Char a su esposa, Katia Nule, con quien se encuentra casado desde 1999.\n",
    "(Le puede interesar: Sobrina de Álvaro Lemmon: 'es falso que esté en estado de indigencia'\n",
    "En la conversación se podía evidenciar todo tipo de expresiones de afecto como: “Todo para ti, hermosa, amor, mi vida, mi amor, corazón, amándote a diario”, escribía Alex Char en la conversación de WhatsApp en el 2015.\n",
    "Después de que se conociera la declaración y las imágenes, Álex Char negó haber apoyado a Aida Merlano políticamente y aseguró que cometió un error al tener una relación con la excongresista.\n",
    "\"Cómo voy yo a financiar una campaña. Primero, yo era alcalde de Barranquilla, en el año 2018. Segundo, cómo voy a financiar campañas de otro partido- del partido Conservador- eso sería una locura de parte nuestra\", dijo Char en un video.\n",
    "\"Por supuesto yo cometí un error. Tuve yo una relación con ella mucho antes de ese periodo electoral del 2018, y yo lo admito, y lo conversé con mi familia en su momento. Y somos humanos, y cometemos errores, pero de los errores nos tenemos que parar, levantar, tomar fuerza y salir adelante\", agregó Char.'''.count('Merlano')\n",
    "print(x1)\n"
   ]
  },
  {
   "cell_type": "code",
   "execution_count": 74,
   "id": "ee029200-a9c8-4c38-a31a-dc2162f5350d",
   "metadata": {},
   "outputs": [
    {
     "name": "stdout",
     "output_type": "stream",
     "text": [
      "0\n"
     ]
    }
   ],
   "source": [
    "x2='En el externado soy muy feliz'.find('En')\n",
    "print(x2)"
   ]
  },
  {
   "cell_type": "code",
   "execution_count": 76,
   "id": "74d57d1c-9ccf-4641-87ec-2e98ea1ddb8e",
   "metadata": {},
   "outputs": [
    {
     "name": "stdout",
     "output_type": "stream",
     "text": [
      "6\n"
     ]
    }
   ],
   "source": [
    "x3='En el Externado soy muy feliz'.find('Externado')\n",
    "print(x3)"
   ]
  },
  {
   "cell_type": "code",
   "execution_count": 77,
   "id": "4d9deb0d-dccb-4f02-8a79-1e81c079be33",
   "metadata": {},
   "outputs": [
    {
     "name": "stdout",
     "output_type": "stream",
     "text": [
      "16\n"
     ]
    }
   ],
   "source": [
    "x4='En el externado soy muy feliz'.find('soy')\n",
    "print(x4)"
   ]
  },
  {
   "cell_type": "markdown",
   "id": "de9b2592-a73d-4174-baaa-89421e8eafaa",
   "metadata": {},
   "source": [
    "En Phyton los textos son arreglos, o más bien secuencias ordenadas de carácteres. Cada texto tiene un orden según la aparición de cada caracter."
   ]
  },
  {
   "cell_type": "code",
   "execution_count": 78,
   "id": "dbd7f5b6-ff7d-4240-8992-a605acd737df",
   "metadata": {},
   "outputs": [],
   "source": [
    "texto_normal='0123456789'"
   ]
  },
  {
   "cell_type": "code",
   "execution_count": 79,
   "id": "5ec2c494-154e-43e0-98f4-8d2b4a585a94",
   "metadata": {},
   "outputs": [
    {
     "data": {
      "text/plain": [
       "'0'"
      ]
     },
     "execution_count": 79,
     "metadata": {},
     "output_type": "execute_result"
    }
   ],
   "source": [
    "texto_normal[0] #Identifico a cada caracter en esta lista o arreglo con paréntesis cuadrados"
   ]
  },
  {
   "cell_type": "code",
   "execution_count": 80,
   "id": "a3126a8a-8cd2-470c-bc24-a1f61c17de50",
   "metadata": {},
   "outputs": [
    {
     "data": {
      "text/plain": [
       "'4'"
      ]
     },
     "execution_count": 80,
     "metadata": {},
     "output_type": "execute_result"
    }
   ],
   "source": [
    "texto_normal[4]"
   ]
  },
  {
   "cell_type": "code",
   "execution_count": 81,
   "id": "38172127-545a-4524-a152-350974f9371c",
   "metadata": {},
   "outputs": [
    {
     "data": {
      "text/plain": [
       "'45678'"
      ]
     },
     "execution_count": 81,
     "metadata": {},
     "output_type": "execute_result"
    }
   ],
   "source": [
    "texto_normal[4:9]"
   ]
  },
  {
   "cell_type": "code",
   "execution_count": 82,
   "id": "78f463a0-d037-4917-b69d-94e192fe3595",
   "metadata": {},
   "outputs": [],
   "source": [
    "texto9='Colombia verá Qatar 2022 desde la casa'"
   ]
  },
  {
   "cell_type": "code",
   "execution_count": 84,
   "id": "f2d5b7b8-d7ac-4b5b-badb-01f7b3c55477",
   "metadata": {},
   "outputs": [
    {
     "data": {
      "text/plain": [
       "'bia verá Qatar 2022 desde'"
      ]
     },
     "execution_count": 84,
     "metadata": {},
     "output_type": "execute_result"
    }
   ],
   "source": [
    "texto9[5:30]"
   ]
  },
  {
   "cell_type": "markdown",
   "id": "51fe6f36-8004-487a-8d2b-45a28d0f7301",
   "metadata": {},
   "source": [
    "# Función input"
   ]
  },
  {
   "cell_type": "code",
   "execution_count": 85,
   "id": "8bc7a216-469a-4349-bcdb-f1ba5b49ac67",
   "metadata": {},
   "outputs": [
    {
     "name": "stdin",
     "output_type": "stream",
     "text": [
      "Escriba aquí un texto: chaooooo\n"
     ]
    },
    {
     "name": "stdout",
     "output_type": "stream",
     "text": [
      "chaooooo\n",
      "<class 'str'>\n"
     ]
    }
   ],
   "source": [
    "txt=input('Escriba aquí un texto:')\n",
    "print(txt)\n",
    "print(type(txt))"
   ]
  },
  {
   "cell_type": "code",
   "execution_count": 87,
   "id": "01442a3d-1af0-494c-80a2-4842eba39d2e",
   "metadata": {},
   "outputs": [
    {
     "name": "stdin",
     "output_type": "stream",
     "text": [
      "Ingrese su nombre: Daniel\n",
      "Ingrese su edad: 16\n"
     ]
    },
    {
     "name": "stdout",
     "output_type": "stream",
     "text": [
      "En el 2023 Daniel, tendrá 17 años\n"
     ]
    }
   ],
   "source": [
    "txt=input('Ingrese su nombre:')\n",
    "age=input('Ingrese su edad:')\n",
    "age=int(age)\n",
    "print('En el 2023 {nombre}, tendrá {edad} años'.format(nombre=txt,edad=age+1))"
   ]
  },
  {
   "cell_type": "code",
   "execution_count": null,
   "id": "cea680fe-1736-4828-8b06-962ce340c16d",
   "metadata": {},
   "outputs": [],
   "source": []
  }
 ],
 "metadata": {
  "kernelspec": {
   "display_name": "Python 3 (ipykernel)",
   "language": "python",
   "name": "python3"
  },
  "language_info": {
   "codemirror_mode": {
    "name": "ipython",
    "version": 3
   },
   "file_extension": ".py",
   "mimetype": "text/x-python",
   "name": "python",
   "nbconvert_exporter": "python",
   "pygments_lexer": "ipython3",
   "version": "3.9.7"
  }
 },
 "nbformat": 4,
 "nbformat_minor": 5
}
